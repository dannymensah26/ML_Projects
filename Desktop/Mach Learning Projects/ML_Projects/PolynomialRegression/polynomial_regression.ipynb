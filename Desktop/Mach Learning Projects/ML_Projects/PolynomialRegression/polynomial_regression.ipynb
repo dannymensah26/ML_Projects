{
 "cells": [
  {
   "cell_type": "markdown",
   "metadata": {},
   "source": [
    "### Polynomial Regression\n",
    "\n",
    "It is a form of Linaer Regression technique where the relationship between the independent variable (features) and the dependent variable (target) is modeled as an nth degree polynomial.\n",
    "\n",
    "IMAGE:\n",
    "\n",
    "\n",
    "\n",
    "\n",
    "\n",
    "As shown above: Instead of fitting a straight line (as in simple linear regression), it involves fitting a curve to the data.\n",
    "### How does a Polynomial Regression work?\n",
    "\n",
    "When the relationship is non-linear, a polynomial regression model introduces higher-degree polynomial terms. By including higher-degree terms (quadratic, cubic, etc.), the model can capture the non-linear patterns in the data.\n",
    "\n",
    "The polynomial regression equation for degree n is given by:\n",
    "\n",
    "IMAGE:\n",
    "\n",
    "where,\n",
    "\n",
    "- y is the dependent variable,\n",
    "- x is the independent variable,\n",
    "- n is the degree of the polynomial, and\n",
    "- b0, b1, b2,..., bn are the coefficients to be determined through the training process.\n"
   ]
  },
  {
   "cell_type": "markdown",
   "metadata": {},
   "source": [
    "#### Why Polynomial Regression?\n",
    "\n",
    "Polynomial regression is particularly useful when the relationship between the variables is non-linear, allowing for a more flexible model that can capture complex patterns in the data.\n",
    "\n",
    "Let's delve into the practical example to understand this concept better.\n"
   ]
  },
  {
   "cell_type": "markdown",
   "metadata": {},
   "source": [
    "##### Import Libraries"
   ]
  },
  {
   "cell_type": "code",
   "execution_count": 3,
   "metadata": {},
   "outputs": [],
   "source": [
    "import numpy as np\n",
    "import matplotlib.pyplot as plt\n",
    "from sklearn.model_selection import train_test_split\n",
    "from sklearn.linear_model import LinearRegression,SGDRegressor\n",
    "from sklearn.preprocessing import PolynomialFeatures,StandardScaler\n",
    "from sklearn.metrics import r2_score\n",
    "from sklearn.pipeline import Pipeline"
   ]
  },
  {
   "cell_type": "markdown",
   "metadata": {},
   "source": [
    "Let's build a polynomial data that will represent this equation: y = 0.5x^2 + 0.9x + 2"
   ]
  },
  {
   "cell_type": "markdown",
   "metadata": {},
   "source": [
    "##### Generating synthetic data with a Quadratic relationship using NumPy and randomness"
   ]
  },
  {
   "cell_type": "code",
   "execution_count": 4,
   "metadata": {},
   "outputs": [],
   "source": [
    "# X values randomly generated in the range [-3, 3]\n",
    "X = 6 * np.random.rand(200, 1) - 3\n",
    "\n",
    "# Creating a quadratic relationship in the data with some noise\n",
    "y = 0.5 * X**2 + 0.9 * X + 2 + np.random.randn(200, 1)"
   ]
  },
  {
   "cell_type": "markdown",
   "metadata": {},
   "source": [
    "##### Plot the Generated Data"
   ]
  },
  {
   "cell_type": "code",
   "execution_count": 5,
   "metadata": {},
   "outputs": [
    {
     "data": {
      "image/png": "[encoded data removed]",
      "text/plain": [
       "<Figure size 640x480 with 1 Axes>"
      ]
     },
     "metadata": {},
     "output_type": "display_data"
    }
   ],
   "source": [
    "plt.plot(X, y,'b+')\n",
    "plt.xlabel(\"X\")\n",
    "plt.ylabel(\"y\")\n",
    "plt.show()"
   ]
  },
  {
   "cell_type": "markdown",
   "metadata": {},
   "source": [
    "##### Train test split"
   ]
  },
  {
   "cell_type": "code",
   "execution_count": 6,
   "metadata": {},
   "outputs": [],
   "source": [
    "train_input,test_input,train_target,test_target = train_test_split(X,y,test_size=0.2,random_state=42)"
   ]
  },
  {
   "cell_type": "markdown",
   "metadata": {},
   "source": [
    "##### Applying Linear Regression to find Best Fit Line"
   ]
  },
  {
   "cell_type": "code",
   "execution_count": 7,
   "metadata": {},
   "outputs": [],
   "source": [
    "lr = LinearRegression()"
   ]
  },
  {
   "cell_type": "code",
   "execution_count": 8,
   "metadata": {},
   "outputs": [
    {
     "data": {
      "text/html": [
       "<style>#sk-container-id-1 {color: black;}#sk-container-id-1 pre{padding: 0;}#sk-container-id-1 div.sk-toggleable {background-color: white;}#sk-container-id-1 label.sk-toggleable__label {cursor: pointer;display: block;width: 100%;margin-bottom: 0;padding: 0.3em;box-sizing: border-box;text-align: center;}#sk-container-id-1 label.sk-toggleable__label-arrow:before {content: \"▸\";float: left;margin-right: 0.25em;color: #696969;}#sk-container-id-1 label.sk-toggleable__label-arrow:hover:before {color: black;}#sk-container-id-1 div.sk-estimator:hover label.sk-toggleable__label-arrow:before {color: black;}#sk-container-id-1 div.sk-toggleable__content {max-height: 0;max-width: 0;overflow: hidden;text-align: left;background-color: #f0f8ff;}#sk-container-id-1 div.sk-toggleable__content pre {margin: 0.2em;color: black;border-radius: 0.25em;background-color: #f0f8ff;}#sk-container-id-1 input.sk-toggleable__control:checked~div.sk-toggleable__content {max-height: 200px;max-width: 100%;overflow: auto;}#sk-container-id-1 input.sk-toggleable__control:checked~label.sk-toggleable__label-arrow:before {content: \"▾\";}#sk-container-id-1 div.sk-estimator input.sk-toggleable__control:checked~label.sk-toggleable__label {background-color: #d4ebff;}#sk-container-id-1 div.sk-label input.sk-toggleable__control:checked~label.sk-toggleable__label {background-color: #d4ebff;}#sk-container-id-1 input.sk-hidden--visually {border: 0;clip: rect(1px 1px 1px 1px);clip: rect(1px, 1px, 1px, 1px);height: 1px;margin: -1px;overflow: hidden;padding: 0;position: absolute;width: 1px;}#sk-container-id-1 div.sk-estimator {font-family: monospace;background-color: #f0f8ff;border: 1px dotted black;border-radius: 0.25em;box-sizing: border-box;margin-bottom: 0.5em;}#sk-container-id-1 div.sk-estimator:hover {background-color: #d4ebff;}#sk-container-id-1 div.sk-parallel-item::after {content: \"\";width: 100%;border-bottom: 1px solid gray;flex-grow: 1;}#sk-container-id-1 div.sk-label:hover label.sk-toggleable__label {background-color: #d4ebff;}#sk-container-id-1 div.sk-serial::before {content: \"\";position: absolute;border-left: 1px solid gray;box-sizing: border-box;top: 0;bottom: 0;left: 50%;z-index: 0;}#sk-container-id-1 div.sk-serial {display: flex;flex-direction: column;align-items: center;background-color: white;padding-right: 0.2em;padding-left: 0.2em;position: relative;}#sk-container-id-1 div.sk-item {position: relative;z-index: 1;}#sk-container-id-1 div.sk-parallel {display: flex;align-items: stretch;justify-content: center;background-color: white;position: relative;}#sk-container-id-1 div.sk-item::before, #sk-container-id-1 div.sk-parallel-item::before {content: \"\";position: absolute;border-left: 1px solid gray;box-sizing: border-box;top: 0;bottom: 0;left: 50%;z-index: -1;}#sk-container-id-1 div.sk-parallel-item {display: flex;flex-direction: column;z-index: 1;position: relative;background-color: white;}#sk-container-id-1 div.sk-parallel-item:first-child::after {align-self: flex-end;width: 50%;}#sk-container-id-1 div.sk-parallel-item:last-child::after {align-self: flex-start;width: 50%;}#sk-container-id-1 div.sk-parallel-item:only-child::after {width: 0;}#sk-container-id-1 div.sk-dashed-wrapped {border: 1px dashed gray;margin: 0 0.4em 0.5em 0.4em;box-sizing: border-box;padding-bottom: 0.4em;background-color: white;}#sk-container-id-1 div.sk-label label {font-family: monospace;font-weight: bold;display: inline-block;line-height: 1.2em;}#sk-container-id-1 div.sk-label-container {text-align: center;}#sk-container-id-1 div.sk-container {/* jupyter's `normalize.less` sets `[hidden] { display: none; }` but bootstrap.min.css set `[hidden] { display: none !important; }` so we also need the `!important` here to be able to override the default hidden behavior on the sphinx rendered scikit-learn.org. See: https://github.com/scikit-learn/scikit-learn/issues/21755 */display: inline-block !important;position: relative;}#sk-container-id-1 div.sk-text-repr-fallback {display: none;}</style><div id=\"sk-container-id-1\" class=\"sk-top-container\"><div class=\"sk-text-repr-fallback\"><pre>LinearRegression()</pre><b>In a Jupyter environment, please rerun this cell to show the HTML representation or trust the notebook. <br />On GitHub, the HTML representation is unable to render, please try loading this page with nbviewer.org.</b></div><div class=\"sk-container\" hidden><div class=\"sk-item\"><div class=\"sk-estimator sk-toggleable\"><input class=\"sk-toggleable__control sk-hidden--visually\" id=\"sk-estimator-id-1\" type=\"checkbox\" checked><label for=\"sk-estimator-id-1\" class=\"sk-toggleable__label sk-toggleable__label-arrow\">LinearRegression</label><div class=\"sk-toggleable__content\"><pre>LinearRegression()</pre></div></div></div></div></div>"
      ],
      "text/plain": [
       "LinearRegression()"
      ]
     },
     "execution_count": 8,
     "metadata": {},
     "output_type": "execute_result"
    }
   ],
   "source": [
    "lr.fit(train_input, train_target)"
   ]
  },
  {
   "cell_type": "code",
   "execution_count": 9,
   "metadata": {},
   "outputs": [],
   "source": [
    "y_pred = lr.predict(test_input)"
   ]
  },
  {
   "cell_type": "code",
   "execution_count": 10,
   "metadata": {},
   "outputs": [
    {
     "data": {
      "image/png": "[encoded data removed]",
      "text/plain": [
       "<Figure size 640x480 with 1 Axes>"
      ]
     },
     "metadata": {},
     "output_type": "display_data"
    }
   ],
   "source": [
    "plt.plot(train_input,lr.predict(train_input),color='r')\n",
    "plt.plot(X, y, \"b+\")\n",
    "plt.xlabel(\"X\")\n",
    "plt.ylabel(\"y\")\n",
    "plt.show()"
   ]
  },
  {
   "cell_type": "code",
   "execution_count": 11,
   "metadata": {},
   "outputs": [
    {
     "data": {
      "text/plain": [
       "0.44398150795369085"
      ]
     },
     "execution_count": 11,
     "metadata": {},
     "output_type": "execute_result"
    }
   ],
   "source": [
    "r2_score(test_target,y_pred)"
   ]
  },
  {
   "cell_type": "markdown",
   "metadata": {},
   "source": [
    "Clearly, not a good model for this non-linear data.\n",
    "\n",
    "While Simple Linear Regression models the relationship as a straight line, Polynomial Regression allows for more flexibility by fitting a polynomial equation to the data."
   ]
  },
  {
   "cell_type": "markdown",
   "metadata": {},
   "source": [
    "##### Applying Polynomial Linear Regression\n",
    "\n",
    "Fitting the Polynomial Regression model using the preprocessing PolynomialFeatures Method on two components X and y.\n",
    "\n",
    "IMAGE:"
   ]
  },
  {
   "cell_type": "code",
   "execution_count": 12,
   "metadata": {},
   "outputs": [],
   "source": [
    "# degree 2\n",
    "polynomial = PolynomialFeatures(degree=2,include_bias=True)\n",
    "\n",
    "trans_train_input = polynomial.fit_transform(train_input)\n",
    "trans_test_input = polynomial.transform(test_input)"
   ]
  },
  {
   "cell_type": "markdown",
   "metadata": {},
   "source": [
    "##### Calculating the degree of polynomial for each row from train_input column.\n",
    "\n",
    "For example: For degress = 2;\n",
    "\n",
    "Polynomial Features are X^0 (X power 0), X^1 (X power 1), X^2 (X power 2) this helps to interpret the non-linear relationship in data."
   ]
  },
  {
   "cell_type": "code",
   "execution_count": 13,
   "metadata": {},
   "outputs": [
    {
     "name": "stdout",
     "output_type": "stream",
     "text": [
      "train_input [0.16964442]\n",
      "trans_train_input [1.         0.16964442 0.02877923]\n"
     ]
    }
   ],
   "source": [
    "# Printing the first element of the original training input and transformed training input arrays\n",
    "\n",
    "print(\"train_input\", train_input[0])\n",
    "print(\"trans_train_input\", trans_train_input[0])\n",
    "\n",
    "# Examining these elements helps compare the original and transformed data."
   ]
  },
  {
   "cell_type": "code",
   "execution_count": 14,
   "metadata": {},
   "outputs": [],
   "source": [
    "lr = LinearRegression()"
   ]
  },
  {
   "cell_type": "code",
   "execution_count": 15,
   "metadata": {},
   "outputs": [
    {
     "data": {
      "text/html": [
       "<style>#sk-container-id-2 {color: black;}#sk-container-id-2 pre{padding: 0;}#sk-container-id-2 div.sk-toggleable {background-color: white;}#sk-container-id-2 label.sk-toggleable__label {cursor: pointer;display: block;width: 100%;margin-bottom: 0;padding: 0.3em;box-sizing: border-box;text-align: center;}#sk-container-id-2 label.sk-toggleable__label-arrow:before {content: \"▸\";float: left;margin-right: 0.25em;color: #696969;}#sk-container-id-2 label.sk-toggleable__label-arrow:hover:before {color: black;}#sk-container-id-2 div.sk-estimator:hover label.sk-toggleable__label-arrow:before {color: black;}#sk-container-id-2 div.sk-toggleable__content {max-height: 0;max-width: 0;overflow: hidden;text-align: left;background-color: #f0f8ff;}#sk-container-id-2 div.sk-toggleable__content pre {margin: 0.2em;color: black;border-radius: 0.25em;background-color: #f0f8ff;}#sk-container-id-2 input.sk-toggleable__control:checked~div.sk-toggleable__content {max-height: 200px;max-width: 100%;overflow: auto;}#sk-container-id-2 input.sk-toggleable__control:checked~label.sk-toggleable__label-arrow:before {content: \"▾\";}#sk-container-id-2 div.sk-estimator input.sk-toggleable__control:checked~label.sk-toggleable__label {background-color: #d4ebff;}#sk-container-id-2 div.sk-label input.sk-toggleable__control:checked~label.sk-toggleable__label {background-color: #d4ebff;}#sk-container-id-2 input.sk-hidden--visually {border: 0;clip: rect(1px 1px 1px 1px);clip: rect(1px, 1px, 1px, 1px);height: 1px;margin: -1px;overflow: hidden;padding: 0;position: absolute;width: 1px;}#sk-container-id-2 div.sk-estimator {font-family: monospace;background-color: #f0f8ff;border: 1px dotted black;border-radius: 0.25em;box-sizing: border-box;margin-bottom: 0.5em;}#sk-container-id-2 div.sk-estimator:hover {background-color: #d4ebff;}#sk-container-id-2 div.sk-parallel-item::after {content: \"\";width: 100%;border-bottom: 1px solid gray;flex-grow: 1;}#sk-container-id-2 div.sk-label:hover label.sk-toggleable__label {background-color: #d4ebff;}#sk-container-id-2 div.sk-serial::before {content: \"\";position: absolute;border-left: 1px solid gray;box-sizing: border-box;top: 0;bottom: 0;left: 50%;z-index: 0;}#sk-container-id-2 div.sk-serial {display: flex;flex-direction: column;align-items: center;background-color: white;padding-right: 0.2em;padding-left: 0.2em;position: relative;}#sk-container-id-2 div.sk-item {position: relative;z-index: 1;}#sk-container-id-2 div.sk-parallel {display: flex;align-items: stretch;justify-content: center;background-color: white;position: relative;}#sk-container-id-2 div.sk-item::before, #sk-container-id-2 div.sk-parallel-item::before {content: \"\";position: absolute;border-left: 1px solid gray;box-sizing: border-box;top: 0;bottom: 0;left: 50%;z-index: -1;}#sk-container-id-2 div.sk-parallel-item {display: flex;flex-direction: column;z-index: 1;position: relative;background-color: white;}#sk-container-id-2 div.sk-parallel-item:first-child::after {align-self: flex-end;width: 50%;}#sk-container-id-2 div.sk-parallel-item:last-child::after {align-self: flex-start;width: 50%;}#sk-container-id-2 div.sk-parallel-item:only-child::after {width: 0;}#sk-container-id-2 div.sk-dashed-wrapped {border: 1px dashed gray;margin: 0 0.4em 0.5em 0.4em;box-sizing: border-box;padding-bottom: 0.4em;background-color: white;}#sk-container-id-2 div.sk-label label {font-family: monospace;font-weight: bold;display: inline-block;line-height: 1.2em;}#sk-container-id-2 div.sk-label-container {text-align: center;}#sk-container-id-2 div.sk-container {/* jupyter's `normalize.less` sets `[hidden] { display: none; }` but bootstrap.min.css set `[hidden] { display: none !important; }` so we also need the `!important` here to be able to override the default hidden behavior on the sphinx rendered scikit-learn.org. See: https://github.com/scikit-learn/scikit-learn/issues/21755 */display: inline-block !important;position: relative;}#sk-container-id-2 div.sk-text-repr-fallback {display: none;}</style><div id=\"sk-container-id-2\" class=\"sk-top-container\"><div class=\"sk-text-repr-fallback\"><pre>LinearRegression()</pre><b>In a Jupyter environment, please rerun this cell to show the HTML representation or trust the notebook. <br />On GitHub, the HTML representation is unable to render, please try loading this page with nbviewer.org.</b></div><div class=\"sk-container\" hidden><div class=\"sk-item\"><div class=\"sk-estimator sk-toggleable\"><input class=\"sk-toggleable__control sk-hidden--visually\" id=\"sk-estimator-id-2\" type=\"checkbox\" checked><label for=\"sk-estimator-id-2\" class=\"sk-toggleable__label sk-toggleable__label-arrow\">LinearRegression</label><div class=\"sk-toggleable__content\"><pre>LinearRegression()</pre></div></div></div></div></div>"
      ],
      "text/plain": [
       "LinearRegression()"
      ]
     },
     "execution_count": 15,
     "metadata": {},
     "output_type": "execute_result"
    }
   ],
   "source": [
    "lr.fit(trans_train_input,train_target)"
   ]
  },
  {
   "cell_type": "code",
   "execution_count": 16,
   "metadata": {},
   "outputs": [],
   "source": [
    "trans_y_pred = lr.predict(trans_test_input)"
   ]
  },
  {
   "cell_type": "code",
   "execution_count": 17,
   "metadata": {},
   "outputs": [],
   "source": [
    "# Generating new data for prediction and transforming it using polynomial features\n",
    "\n",
    "# Creating a new array of 200 evenly spaced values in the range [-3, 3]\n",
    "X_new=np.linspace(-3, 3, 200).reshape(200, 1)\n",
    "\n",
    "# Transforming the new data using the previously fitted polynomial features\n",
    "X_new_polynomial = polynomial.transform(X_new)\n",
    "\n",
    "# Predicting the target variable using the trained linear regression model\n",
    "y_new = lr.predict(X_new_polynomial)"
   ]
  },
  {
   "cell_type": "code",
   "execution_count": 18,
   "metadata": {},
   "outputs": [
    {
     "data": {
      "image/png": "[encoded data removed]",
      "text/plain": [
       "<Figure size 640x480 with 1 Axes>"
      ]
     },
     "metadata": {},
     "output_type": "display_data"
    }
   ],
   "source": [
    "plt.plot(X_new, y_new, \"g-\", linewidth=2, label=\"Predictions\")\n",
    "plt.plot(train_input, train_target, \"b+\", label='Training points')\n",
    "plt.plot(test_input, test_target, \"r.\", label='Testing points')\n",
    "plt.xlabel(\"X\")\n",
    "plt.ylabel(\"y\")\n",
    "plt.legend()\n",
    "plt.show()"
   ]
  },
  {
   "cell_type": "code",
   "execution_count": 19,
   "metadata": {},
   "outputs": [
    {
     "name": "stdout",
     "output_type": "stream",
     "text": [
      "poly_r2_score 0.8432804991942076\n"
     ]
    }
   ],
   "source": [
    "print(\"poly_r2_score\", r2_score(test_target, trans_y_pred))"
   ]
  },
  {
   "cell_type": "markdown",
   "metadata": {},
   "source": [
    "The R2 Score has increase drastically.\n",
    "\n",
    "Hence, we need Polynomial Linear Regression for Non-Linear Data.\n"
   ]
  },
  {
   "cell_type": "code",
   "execution_count": 20,
   "metadata": {},
   "outputs": [
    {
     "name": "stdout",
     "output_type": "stream",
     "text": [
      "[[0.         0.94102314 0.51563275]]\n",
      "[1.91089558]\n"
     ]
    }
   ],
   "source": [
    "# Polynomial coefficients and intercept\n",
    "print(lr.coef_)\n",
    "print(lr.intercept_)"
   ]
  },
  {
   "cell_type": "markdown",
   "metadata": {},
   "source": [
    "We can note that: We have approximately similar coefficients and intercept as per our equation.\n",
    "\n",
    "Also, it is important to note that it won't be ever exactly same due to addition of noise.\n"
   ]
  },
  {
   "cell_type": "markdown",
   "metadata": {},
   "source": [
    "##### Let's play with degrees"
   ]
  },
  {
   "cell_type": "code",
   "execution_count": 21,
   "metadata": {},
   "outputs": [],
   "source": [
    "def polynomial_regression(degree):\n",
    "    X_new=np.linspace(-3, 3, 100).reshape(100, 1)\n",
    "    X_new_poly = polynomial.transform(X_new)\n",
    "\n",
    "    polybig_features = PolynomialFeatures(degree=degree, include_bias=False)\n",
    "    std_scaler = StandardScaler()\n",
    "    lin_reg = LinearRegression()\n",
    "    polynomial_regression = Pipeline([\n",
    "            (\"poly_features\", polybig_features),\n",
    "            (\"std_scaler\", std_scaler),\n",
    "            (\"lin_reg\", lin_reg),\n",
    "        ])\n",
    "    \n",
    "    polynomial_regression.fit(X, y)\n",
    "    y_newbig = polynomial_regression.predict(X_new)\n",
    "    plt.plot(X_new, y_newbig,'g', label=\"Degree \" + str(degree), linewidth=2)\n",
    "\n",
    "    plt.plot(train_input, train_target, \"b+\", linewidth=3)\n",
    "    plt.plot(test_input, test_target, \"r.\", linewidth=3)\n",
    "    plt.legend(loc=\"upper left\")\n",
    "    plt.xlabel(\"X\")\n",
    "    plt.ylabel(\"y\")\n",
    "    plt.axis([-3, 3, 0, 10])\n",
    "    plt.show()"
   ]
  },
  {
   "cell_type": "markdown",
   "metadata": {},
   "source": [
    "##### Best fit Curve for : Degree 2"
   ]
  },
  {
   "cell_type": "code",
   "execution_count": 22,
   "metadata": {},
   "outputs": [
    {
     "data": {
      "image/png": "[encoded data removed]",
      "text/plain": [
       "<Figure size 640x480 with 1 Axes>"
      ]
     },
     "metadata": {},
     "output_type": "display_data"
    }
   ],
   "source": [
    "polynomial_regression(2)"
   ]
  },
  {
   "cell_type": "markdown",
   "metadata": {},
   "source": [
    "##### Best fit Curve for : Degree 3"
   ]
  },
  {
   "cell_type": "code",
   "execution_count": 23,
   "metadata": {},
   "outputs": [
    {
     "data": {
      "image/png": "[encoded data removed]",
      "text/plain": [
       "<Figure size 640x480 with 1 Axes>"
      ]
     },
     "metadata": {},
     "output_type": "display_data"
    }
   ],
   "source": [
    "polynomial_regression(3)"
   ]
  },
  {
   "cell_type": "markdown",
   "metadata": {},
   "source": [
    "##### Best fit Curve for : Degree 5"
   ]
  },
  {
   "cell_type": "code",
   "execution_count": 24,
   "metadata": {},
   "outputs": [
    {
     "data": {
      "image/png": "[encoded data removed]",
      "text/plain": [
       "<Figure size 640x480 with 1 Axes>"
      ]
     },
     "metadata": {},
     "output_type": "display_data"
    }
   ],
   "source": [
    "polynomial_regression(5)"
   ]
  },
  {
   "cell_type": "markdown",
   "metadata": {},
   "source": [
    "##### Best fit Curve for : Degree 12"
   ]
  },
  {
   "cell_type": "code",
   "execution_count": 25,
   "metadata": {},
   "outputs": [
    {
     "data": {
      "image/png": "[encoded data removed]",
      "text/plain": [
       "<Figure size 640x480 with 1 Axes>"
      ]
     },
     "metadata": {},
     "output_type": "display_data"
    }
   ],
   "source": [
    "polynomial_regression(12)"
   ]
  },
  {
   "cell_type": "markdown",
   "metadata": {},
   "source": [
    "##### Best fit Curve for : Degree 23"
   ]
  },
  {
   "cell_type": "code",
   "execution_count": 26,
   "metadata": {},
   "outputs": [
    {
     "data": {
      "image/png": "[encoded data removed]",
      "text/plain": [
       "<Figure size 640x480 with 1 Axes>"
      ]
     },
     "metadata": {},
     "output_type": "display_data"
    }
   ],
   "source": [
    "polynomial_regression(23)"
   ]
  },
  {
   "cell_type": "markdown",
   "metadata": {},
   "source": [
    "##### Best fit Curve for : Degree 40"
   ]
  },
  {
   "cell_type": "code",
   "execution_count": 27,
   "metadata": {},
   "outputs": [
    {
     "data": {
      "image/png": "[encoded data removed]",
      "text/plain": [
       "<Figure size 640x480 with 1 Axes>"
      ]
     },
     "metadata": {},
     "output_type": "display_data"
    }
   ],
   "source": [
    "polynomial_regression(40)"
   ]
  },
  {
   "cell_type": "markdown",
   "metadata": {},
   "source": [
    "##### Conclusion:\n",
    "\n",
    "##### Choice of the polynomial degree (n)\n",
    "\n",
    "The choice of the polynomial degree (n) is a crucial aspect of polynomial regression that determines the flexibility of the model.\n",
    "\n",
    "But higher degrees may lead to overfitting.\n",
    "\n",
    "Note: Regularization techniques likes Lasso regression and Ridge regression methodologies may be applied to penalize the weights of the model to regularize the effect of the overfitting problem in polynomial regression. Therefore, the degree should be chosen based on the complexity of the underlying relationship in the data.\n",
    "\n",
    "The polynomial regression model is trained to find the coefficients that minimize the difference between the predicted values and the actual values in the training data.\n",
    "\n",
    "Once the model is trained, it can be used to make predictions on new, unseen data. The polynomial equation captures the non-linear patterns observed in the training data, allowing the model to generalize to non-linear relationships.\n"
   ]
  },
  {
   "cell_type": "markdown",
   "metadata": {},
   "source": [
    "##### Applying Gradient Descent"
   ]
  },
  {
   "cell_type": "code",
   "execution_count": 28,
   "metadata": {},
   "outputs": [
    {
     "name": "stderr",
     "output_type": "stream",
     "text": [
      "c:\\Users\\daniel mensah\\.conda\\envs\\mlproj\\lib\\site-packages\\sklearn\\utils\\validation.py:1183: DataConversionWarning: A column-vector y was passed when a 1d array was expected. Please change the shape of y to (n_samples, ), for example using ravel().\n",
      "  y = column_or_1d(y, warn=True)\n"
     ]
    },
    {
     "data": {
      "image/png": "[encoded data removed]",
      "text/plain": [
       "<Figure size 640x480 with 1 Axes>"
      ]
     },
     "metadata": {},
     "output_type": "display_data"
    }
   ],
   "source": [
    "polynomial = PolynomialFeatures(degree=2)\n",
    "\n",
    "trans_train_input = polynomial.fit_transform(train_input)\n",
    "trans_test_input = polynomial.transform(test_input)\n",
    "\n",
    "sgd = SGDRegressor(max_iter=100)\n",
    "sgd.fit(trans_train_input, train_target)\n",
    "\n",
    "X_new=np.linspace(-3, 3, 200).reshape(200, 1)\n",
    "X_new_poly = polynomial.transform(X_new)\n",
    "y_new = sgd.predict(X_new_poly)\n",
    "\n",
    "sgd_pred = sgd.predict(trans_test_input)\n",
    "\n",
    "plt.plot(X_new, y_new, \"g-\", linewidth=2, label=\"Predictions \" + str(round(r2_score(test_target,sgd_pred),2)))\n",
    "plt.plot(train_input, train_target, \"b+\",label='Training points')\n",
    "plt.plot(test_input, test_target, \"r.\",label='Testing points')\n",
    "plt.xlabel(\"X\")\n",
    "plt.ylabel(\"y\")\n",
    "plt.legend()\n",
    "plt.show()"
   ]
  },
  {
   "cell_type": "markdown",
   "metadata": {},
   "source": [
    "In summary, if we preprocess our data using PolynomialFeatures with optimal degree than both Linear Regression and SGD Regression are appropriate and effective for modeling non-linear relationships on the data.\n",
    "\n",
    "Let's build a 3D Polynomial Regression data that will represent this equation: z = x^2 + y^2 + 0.4x + 0.4y + 0.2xy + 2"
   ]
  },
  {
   "cell_type": "markdown",
   "metadata": {},
   "source": [
    "##### Generating synthetic data in 3D space with a Quadratic Relationship"
   ]
  },
  {
   "cell_type": "code",
   "execution_count": 29,
   "metadata": {},
   "outputs": [],
   "source": [
    "# Randomly generating 100 points for x and y in the range [-2.8, 4.2]\n",
    "x = 7 * np.random.rand(100, 1) - 2.8\n",
    "y = 7 * np.random.rand(100, 1) - 2.8\n",
    "\n",
    "# Creating a quadratic relationship in 3D space with some additional terms and noise\n",
    "z = x**2 + y**2 + 0.4 * x + 0.4 * y + 0.2 * x * y + 2 + np.random.randn(100, 1)\n",
    "\n",
    "# The generated data simulates a quadratic surface in 3D space with added noise.\n",
    "# Each point (x, y, z) represents a coordinate in space where z is determined by the quadratic relationship."
   ]
  },
  {
   "cell_type": "code",
   "execution_count": 30,
   "metadata": {},
   "outputs": [],
   "source": [
    "import plotly.graph_objects as go\n",
    "import plotly.express as px"
   ]
  },
  {
   "cell_type": "code",
   "execution_count": 31,
   "metadata": {},
   "outputs": [
    {
     "data": {
      "application/vnd.plotly.v1+json": {
       "config": {
        "plotlyServerURL": "https://plot.ly"
       },
       "data": [
        {
         "hovertemplate": "x=%{x}<br>y=%{y}<br>z=%{z}<extra></extra>",
         "legendgroup": "",
         "marker": {
          "color": "#636efa",
          "symbol": "circle"
         },
         "mode": "markers",
         "name": "",
         "scene": "scene",
         "showlegend": false,
         "type": "scatter3d",
         "x": [
          2.911586985242846,
          2.9067692632390516,
          -1.8951051187834071,
          -2.6009773440469384,
          2.618394064540964,
          0.9261271213782263,
          0.5775691322209546,
          2.6734889413799596,
          0.8803822311890874,
          3.537513722307698,
          -1.1600590352191311,
          -0.8023625393014282,
          -0.8739641188995222,
          1.5197977623610281,
          -2.6958362209564983,
          3.5582329941326183,
          -0.3239381099170231,
          3.407995236977545,
          -0.0817735105740347,
          -1.739740102273496,
          1.213871300626729,
          0.7290069911010137,
          -0.04224507857870652,
          -0.6156348576350439,
          -1.8569596667667376,
          -1.4283552675288915,
          2.153104951098359,
          -1.0455067330873067,
          -2.413972390807242,
          -0.3767244817410442,
          4.158002313690213,
          0.7385946637757272,
          -2.609798560279158,
          -1.6741318927552054,
          3.548063364256059,
          3.029055607714204,
          -0.8955887390101434,
          -0.6160948875839889,
          1.3846955981019669,
          -1.0069165837752523,
          3.523013540113821,
          1.5875898684358747,
          2.704576762715127,
          -2.685500260790478,
          -0.3371699913123596,
          0.2109712555374239,
          2.767054656727744,
          -0.49913550710412213,
          0.8512580661413072,
          1.0291474114583758,
          3.406339156784208,
          1.0164328919067218,
          0.4655622159772701,
          -0.6784615327724723,
          1.8002486011155998,
          3.6877972584475476,
          -1.4560807814291563,
          0.6499157889942349,
          3.933771849148556,
          0.6069075683469949,
          3.690130393619385,
          0.4249331992807108,
          -1.3571034723984265,
          2.495108168480799,
          3.503071510766893,
          1.091145144225612,
          2.5062337641574253,
          2.3659251965462618,
          3.902712439242384,
          -0.0732527146918951,
          0.6905150672577456,
          -1.132132634124666,
          -0.10511655322571167,
          -0.2934824419781439,
          4.044595497446538,
          1.8910994690807055,
          2.4063691307832302,
          -2.777150142789116,
          -1.5995512268561025,
          -1.6024990757476385,
          2.453673083474185,
          3.042872275864826,
          0.07562605135169109,
          3.4043494810304056,
          1.4867700171588574,
          -2.5434677930936624,
          -0.0773548437615812,
          -1.6937856635501274,
          2.1878265345321557,
          -2.277882064810643,
          -1.4241681564257016,
          -1.4503592294698382,
          0.3103510780137695,
          2.315171272596422,
          2.078573258079916,
          1.7547339972257747,
          2.0635547068878237,
          3.007731644697735,
          3.945202393499395,
          0.43991358024396243
         ],
         "y": [
          -1.093305344425485,
          1.349566995098482,
          3.115975241314123,
          3.8683628142189255,
          3.4356250520266345,
          0.4165721209896738,
          -1.1234788874053376,
          2.980348709365548,
          -1.7115380762319283,
          1.1148447648367261,
          4.027123725726579,
          -0.45282037952968546,
          3.174643497719204,
          -1.1917559466381542,
          -0.2099800410418169,
          0.7376136028232008,
          0.5181639358977277,
          3.2521964013194387,
          -0.008770500364891465,
          2.492772572314017,
          3.177528157489169,
          -0.665335210590944,
          3.897402452160234,
          3.906070290668115,
          -2.2237488613287946,
          3.1058296397838836,
          2.0197930764325855,
          0.11350720161383432,
          -0.8355364968574384,
          1.4157081927996007,
          -2.5735069602728244,
          2.0856602315192676,
          1.0232463654032302,
          -2.4887985780756003,
          1.504587898672277,
          2.481064014401958,
          -0.5246272863365506,
          3.515974629142711,
          2.8543390625382896,
          3.4566987302315795,
          0.5928259384215124,
          -1.454523808421761,
          3.1782257761915496,
          1.755395292956142,
          -2.7743731728808028,
          -0.6309975005255888,
          1.2912703823548242,
          -1.6150043126386506,
          3.7750022942297736,
          -1.082902332742029,
          0.48138933311442544,
          1.1984612898285505,
          2.1598340547582433,
          -2.4756903313597274,
          3.2135819787260385,
          1.8157249796291008,
          3.0988684868916136,
          2.504889633503578,
          -1.4630951477836436,
          4.122823783514126,
          1.1779170799930836,
          -1.9956829563716891,
          -2.4112881434971833,
          1.6671000036115293,
          -1.8710715225374797,
          -2.215473039765527,
          -1.918337381338615,
          -1.0390878457295876,
          3.480167612345399,
          4.072685952027569,
          2.3289882349998,
          0.926019564371813,
          -1.3056350539368906,
          -0.6834928279440717,
          -1.8309554720497827,
          4.006713335291195,
          2.4488096011771985,
          2.5845794867671072,
          0.6640938003703272,
          -1.855089149523653,
          -0.17473821815684865,
          2.8598648824586403,
          -1.070596317681337,
          -0.004757464291795355,
          0.12161151163674999,
          1.0374218107699784,
          3.583091652944713,
          3.315860764080626,
          0.3793586291535824,
          -2.1338233155933755,
          -0.02662576399546701,
          -1.9369688289897025,
          1.3635013423519506,
          -2.709244335394488,
          -0.8536433769436682,
          -0.6831011668076581,
          -1.2123077090186989,
          2.570799324057279,
          0.6361389151413546,
          0.8972106520715508
         ],
         "z": [
          13.021101860331644,
          13.331768236231552,
          14.51927817470968,
          22.947014564986766,
          25.563219954893484,
          3.108098721670559,
          4.076684401716029,
          19.858601382454687,
          5.952118587505548,
          16.88894337639108,
          19.851397601320627,
          2.5487703912255886,
          13.516076469672036,
          4.604956718610618,
          9.485542394644838,
          19.101983712042763,
          0.9800221055129741,
          28.463151931742992,
          3.731765844576828,
          10.65236017294482,
          15.103679486883609,
          3.075323615427145,
          19.86231746731302,
          18.123832062195273,
          9.964553453684484,
          16.103069843315453,
          12.706614550958456,
          2.4373179857864455,
          8.536880940474653,
          7.992581059200759,
          23.132508726752455,
          7.066485296101529,
          8.616687165596778,
          9.220186256082185,
          19.683193980551035,
          18.75957265486981,
          0.4785106347703132,
          14.23230491917549,
          16.07861737714905,
          12.987758742060407,
          18.26809833035068,
          6.805012995755073,
          23.775465303784372,
          12.06247785177987,
          8.73054617269933,
          2.325201669210273,
          14.140818773083872,
          4.255013406024266,
          19.35832627013834,
          3.9408751428826463,
          15.197538768173667,
          5.484786596287648,
          8.201168725173089,
          7.7538192702824364,
          18.677173682160483,
          22.58459455938786,
          13.005228307319406,
          9.971077953460291,
          18.696342441118695,
          22.092428313425312,
          21.11217392950722,
          7.925910581424824,
          9.662903126635156,
          13.870384887093143,
          15.80549191441247,
          9.056664201511104,
          10.234122457929896,
          9.636466812303546,
          33.796877260570156,
          21.992893364707736,
          10.418591760006441,
          4.6088318093111775,
          2.740146721739707,
          1.9932423837522837,
          19.593401085659448,
          23.89202036294882,
          17.29418419362691,
          15.616257652340355,
          3.7457733865784664,
          7.61115389342642,
          7.7649911561298985,
          22.808098528825166,
          3.204310858377521,
          16.034006079960047,
          3.983918969235597,
          8.409848101791267,
          16.352494764970277,
          16.569005885756418,
          8.772994603112014,
          10.81060840516423,
          4.1098805467534785,
          5.770961475750128,
          3.618283691221638,
          14.204118810056004,
          7.2807575704534795,
          5.27767311225501,
          7.232658984831901,
          19.91020799991047,
          22.788646409112655,
          3.1145588069471963
         ]
        }
       ],
       "layout": {
        "legend": {
         "tracegroupgap": 0
        },
        "margin": {
         "t": 60
        },
        "scene": {
         "domain": {
          "x": [
           0,
           1
          ],
          "y": [
           0,
           1
          ]
         },
         "xaxis": {
          "title": {
           "text": "x"
          }
         },
         "yaxis": {
          "title": {
           "text": "y"
          }
         },
         "zaxis": {
          "title": {
           "text": "z"
          }
         }
        },
        "template": {
         "data": {
          "bar": [
           {
            "error_x": {
             "color": "#2a3f5f"
            },
            "error_y": {
             "color": "#2a3f5f"
            },
            "marker": {
             "line": {
              "color": "#E5ECF6",
              "width": 0.5
             },
             "pattern": {
              "fillmode": "overlay",
              "size": 10,
              "solidity": 0.2
             }
            },
            "type": "bar"
           }
          ],
          "barpolar": [
           {
            "marker": {
             "line": {
              "color": "#E5ECF6",
              "width": 0.5
             },
             "pattern": {
              "fillmode": "overlay",
              "size": 10,
              "solidity": 0.2
             }
            },
            "type": "barpolar"
           }
          ],
          "carpet": [
           {
            "aaxis": {
             "endlinecolor": "#2a3f5f",
             "gridcolor": "white",
             "linecolor": "white",
             "minorgridcolor": "white",
             "startlinecolor": "#2a3f5f"
            },
            "baxis": {
             "endlinecolor": "#2a3f5f",
             "gridcolor": "white",
             "linecolor": "white",
             "minorgridcolor": "white",
             "startlinecolor": "#2a3f5f"
            },
            "type": "carpet"
           }
          ],
          "choropleth": [
           {
            "colorbar": {
             "outlinewidth": 0,
             "ticks": ""
            },
            "type": "choropleth"
           }
          ],
          "contour": [
           {
            "colorbar": {
             "outlinewidth": 0,
             "ticks": ""
            },
            "colorscale": [
             [
              0,
              "#0d0887"
             ],
             [
              0.1111111111111111,
              "#46039f"
             ],
             [
              0.2222222222222222,
              "#7201a8"
             ],
             [
              0.3333333333333333,
              "#9c179e"
             ],
             [
              0.4444444444444444,
              "#bd3786"
             ],
             [
              0.5555555555555556,
              "#d8576b"
             ],
             [
              0.6666666666666666,
              "#ed7953"
             ],
             [
              0.7777777777777778,
              "#fb9f3a"
             ],
             [
              0.8888888888888888,
              "#fdca26"
             ],
             [
              1,
              "#f0f921"
             ]
            ],
            "type": "contour"
           }
          ],
          "contourcarpet": [
           {
            "colorbar": {
             "outlinewidth": 0,
             "ticks": ""
            },
            "type": "contourcarpet"
           }
          ],
          "heatmap": [
           {
            "colorbar": {
             "outlinewidth": 0,
             "ticks": ""
            },
            "colorscale": [
             [
              0,
              "#0d0887"
             ],
             [
              0.1111111111111111,
              "#46039f"
             ],
             [
              0.2222222222222222,
              "#7201a8"
             ],
             [
              0.3333333333333333,
              "#9c179e"
             ],
             [
              0.4444444444444444,
              "#bd3786"
             ],
             [
              0.5555555555555556,
              "#d8576b"
             ],
             [
              0.6666666666666666,
              "#ed7953"
             ],
             [
              0.7777777777777778,
              "#fb9f3a"
             ],
             [
              0.8888888888888888,
              "#fdca26"
             ],
             [
              1,
              "#f0f921"
             ]
            ],
            "type": "heatmap"
           }
          ],
          "heatmapgl": [
           {
            "colorbar": {
             "outlinewidth": 0,
             "ticks": ""
            },
            "colorscale": [
             [
              0,
              "#0d0887"
             ],
             [
              0.1111111111111111,
              "#46039f"
             ],
             [
              0.2222222222222222,
              "#7201a8"
             ],
             [
              0.3333333333333333,
              "#9c179e"
             ],
             [
              0.4444444444444444,
              "#bd3786"
             ],
             [
              0.5555555555555556,
              "#d8576b"
             ],
             [
              0.6666666666666666,
              "#ed7953"
             ],
             [
              0.7777777777777778,
              "#fb9f3a"
             ],
             [
              0.8888888888888888,
              "#fdca26"
             ],
             [
              1,
              "#f0f921"
             ]
            ],
            "type": "heatmapgl"
           }
          ],
          "histogram": [
           {
            "marker": {
             "pattern": {
              "fillmode": "overlay",
              "size": 10,
              "solidity": 0.2
             }
            },
            "type": "histogram"
           }
          ],
          "histogram2d": [
           {
            "colorbar": {
             "outlinewidth": 0,
             "ticks": ""
            },
            "colorscale": [
             [
              0,
              "#0d0887"
             ],
             [
              0.1111111111111111,
              "#46039f"
             ],
             [
              0.2222222222222222,
              "#7201a8"
             ],
             [
              0.3333333333333333,
              "#9c179e"
             ],
             [
              0.4444444444444444,
              "#bd3786"
             ],
             [
              0.5555555555555556,
              "#d8576b"
             ],
             [
              0.6666666666666666,
              "#ed7953"
             ],
             [
              0.7777777777777778,
              "#fb9f3a"
             ],
             [
              0.8888888888888888,
              "#fdca26"
             ],
             [
              1,
              "#f0f921"
             ]
            ],
            "type": "histogram2d"
           }
          ],
          "histogram2dcontour": [
           {
            "colorbar": {
             "outlinewidth": 0,
             "ticks": ""
            },
            "colorscale": [
             [
              0,
              "#0d0887"
             ],
             [
              0.1111111111111111,
              "#46039f"
             ],
             [
              0.2222222222222222,
              "#7201a8"
             ],
             [
              0.3333333333333333,
              "#9c179e"
             ],
             [
              0.4444444444444444,
              "#bd3786"
             ],
             [
              0.5555555555555556,
              "#d8576b"
             ],
             [
              0.6666666666666666,
              "#ed7953"
             ],
             [
              0.7777777777777778,
              "#fb9f3a"
             ],
             [
              0.8888888888888888,
              "#fdca26"
             ],
             [
              1,
              "#f0f921"
             ]
            ],
            "type": "histogram2dcontour"
           }
          ],
          "mesh3d": [
           {
            "colorbar": {
             "outlinewidth": 0,
             "ticks": ""
            },
            "type": "mesh3d"
           }
          ],
          "parcoords": [
           {
            "line": {
             "colorbar": {
              "outlinewidth": 0,
              "ticks": ""
             }
            },
            "type": "parcoords"
           }
          ],
          "pie": [
           {
            "automargin": true,
            "type": "pie"
           }
          ],
          "scatter": [
           {
            "fillpattern": {
             "fillmode": "overlay",
             "size": 10,
             "solidity": 0.2
            },
            "type": "scatter"
           }
          ],
          "scatter3d": [
           {
            "line": {
             "colorbar": {
              "outlinewidth": 0,
              "ticks": ""
             }
            },
            "marker": {
             "colorbar": {
              "outlinewidth": 0,
              "ticks": ""
             }
            },
            "type": "scatter3d"
           }
          ],
          "scattercarpet": [
           {
            "marker": {
             "colorbar": {
              "outlinewidth": 0,
              "ticks": ""
             }
            },
            "type": "scattercarpet"
           }
          ],
          "scattergeo": [
           {
            "marker": {
             "colorbar": {
              "outlinewidth": 0,
              "ticks": ""
             }
            },
            "type": "scattergeo"
           }
          ],
          "scattergl": [
           {
            "marker": {
             "colorbar": {
              "outlinewidth": 0,
              "ticks": ""
             }
            },
            "type": "scattergl"
           }
          ],
          "scattermapbox": [
           {
            "marker": {
             "colorbar": {
              "outlinewidth": 0,
              "ticks": ""
             }
            },
            "type": "scattermapbox"
           }
          ],
          "scatterpolar": [
           {
            "marker": {
             "colorbar": {
              "outlinewidth": 0,
              "ticks": ""
             }
            },
            "type": "scatterpolar"
           }
          ],
          "scatterpolargl": [
           {
            "marker": {
             "colorbar": {
              "outlinewidth": 0,
              "ticks": ""
             }
            },
            "type": "scatterpolargl"
           }
          ],
          "scatterternary": [
           {
            "marker": {
             "colorbar": {
              "outlinewidth": 0,
              "ticks": ""
             }
            },
            "type": "scatterternary"
           }
          ],
          "surface": [
           {
            "colorbar": {
             "outlinewidth": 0,
             "ticks": ""
            },
            "colorscale": [
             [
              0,
              "#0d0887"
             ],
             [
              0.1111111111111111,
              "#46039f"
             ],
             [
              0.2222222222222222,
              "#7201a8"
             ],
             [
              0.3333333333333333,
              "#9c179e"
             ],
             [
              0.4444444444444444,
              "#bd3786"
             ],
             [
              0.5555555555555556,
              "#d8576b"
             ],
             [
              0.6666666666666666,
              "#ed7953"
             ],
             [
              0.7777777777777778,
              "#fb9f3a"
             ],
             [
              0.8888888888888888,
              "#fdca26"
             ],
             [
              1,
              "#f0f921"
             ]
            ],
            "type": "surface"
           }
          ],
          "table": [
           {
            "cells": {
             "fill": {
              "color": "#EBF0F8"
             },
             "line": {
              "color": "white"
             }
            },
            "header": {
             "fill": {
              "color": "#C8D4E3"
             },
             "line": {
              "color": "white"
             }
            },
            "type": "table"
           }
          ]
         },
         "layout": {
          "annotationdefaults": {
           "arrowcolor": "#2a3f5f",
           "arrowhead": 0,
           "arrowwidth": 1
          },
          "autotypenumbers": "strict",
          "coloraxis": {
           "colorbar": {
            "outlinewidth": 0,
            "ticks": ""
           }
          },
          "colorscale": {
           "diverging": [
            [
             0,
             "#8e0152"
            ],
            [
             0.1,
             "#c51b7d"
            ],
            [
             0.2,
             "#de77ae"
            ],
            [
             0.3,
             "#f1b6da"
            ],
            [
             0.4,
             "#fde0ef"
            ],
            [
             0.5,
             "#f7f7f7"
            ],
            [
             0.6,
             "#e6f5d0"
            ],
            [
             0.7,
             "#b8e186"
            ],
            [
             0.8,
             "#7fbc41"
            ],
            [
             0.9,
             "#4d9221"
            ],
            [
             1,
             "#276419"
            ]
           ],
           "sequential": [
            [
             0,
             "#0d0887"
            ],
            [
             0.1111111111111111,
             "#46039f"
            ],
            [
             0.2222222222222222,
             "#7201a8"
            ],
            [
             0.3333333333333333,
             "#9c179e"
            ],
            [
             0.4444444444444444,
             "#bd3786"
            ],
            [
             0.5555555555555556,
             "#d8576b"
            ],
            [
             0.6666666666666666,
             "#ed7953"
            ],
            [
             0.7777777777777778,
             "#fb9f3a"
            ],
            [
             0.8888888888888888,
             "#fdca26"
            ],
            [
             1,
             "#f0f921"
            ]
           ],
           "sequentialminus": [
            [
             0,
             "#0d0887"
            ],
            [
             0.1111111111111111,
             "#46039f"
            ],
            [
             0.2222222222222222,
             "#7201a8"
            ],
            [
             0.3333333333333333,
             "#9c179e"
            ],
            [
             0.4444444444444444,
             "#bd3786"
            ],
            [
             0.5555555555555556,
             "#d8576b"
            ],
            [
             0.6666666666666666,
             "#ed7953"
            ],
            [
             0.7777777777777778,
             "#fb9f3a"
            ],
            [
             0.8888888888888888,
             "#fdca26"
            ],
            [
             1,
             "#f0f921"
            ]
           ]
          },
          "colorway": [
           "#636efa",
           "#EF553B",
           "#00cc96",
           "#ab63fa",
           "#FFA15A",
           "#19d3f3",
           "#FF6692",
           "#B6E880",
           "#FF97FF",
           "#FECB52"
          ],
          "font": {
           "color": "#2a3f5f"
          },
          "geo": {
           "bgcolor": "white",
           "lakecolor": "white",
           "landcolor": "#E5ECF6",
           "showlakes": true,
           "showland": true,
           "subunitcolor": "white"
          },
          "hoverlabel": {
           "align": "left"
          },
          "hovermode": "closest",
          "mapbox": {
           "style": "light"
          },
          "paper_bgcolor": "white",
          "plot_bgcolor": "#E5ECF6",
          "polar": {
           "angularaxis": {
            "gridcolor": "white",
            "linecolor": "white",
            "ticks": ""
           },
           "bgcolor": "#E5ECF6",
           "radialaxis": {
            "gridcolor": "white",
            "linecolor": "white",
            "ticks": ""
           }
          },
          "scene": {
           "xaxis": {
            "backgroundcolor": "#E5ECF6",
            "gridcolor": "white",
            "gridwidth": 2,
            "linecolor": "white",
            "showbackground": true,
            "ticks": "",
            "zerolinecolor": "white"
           },
           "yaxis": {
            "backgroundcolor": "#E5ECF6",
            "gridcolor": "white",
            "gridwidth": 2,
            "linecolor": "white",
            "showbackground": true,
            "ticks": "",
            "zerolinecolor": "white"
           },
           "zaxis": {
            "backgroundcolor": "#E5ECF6",
            "gridcolor": "white",
            "gridwidth": 2,
            "linecolor": "white",
            "showbackground": true,
            "ticks": "",
            "zerolinecolor": "white"
           }
          },
          "shapedefaults": {
           "line": {
            "color": "#2a3f5f"
           }
          },
          "ternary": {
           "aaxis": {
            "gridcolor": "white",
            "linecolor": "white",
            "ticks": ""
           },
           "baxis": {
            "gridcolor": "white",
            "linecolor": "white",
            "ticks": ""
           },
           "bgcolor": "#E5ECF6",
           "caxis": {
            "gridcolor": "white",
            "linecolor": "white",
            "ticks": ""
           }
          },
          "title": {
           "x": 0.05
          },
          "xaxis": {
           "automargin": true,
           "gridcolor": "white",
           "linecolor": "white",
           "ticks": "",
           "title": {
            "standoff": 15
           },
           "zerolinecolor": "white",
           "zerolinewidth": 2
          },
          "yaxis": {
           "automargin": true,
           "gridcolor": "white",
           "linecolor": "white",
           "ticks": "",
           "title": {
            "standoff": 15
           },
           "zerolinecolor": "white",
           "zerolinewidth": 2
          }
         }
        }
       }
      }
     },
     "metadata": {},
     "output_type": "display_data"
    }
   ],
   "source": [
    "# Creating a scatter plot of the generated data\n",
    "fig = px.scatter_3d(x=x.ravel(), y=y.ravel(), z=z.ravel())\n",
    "fig.show()"
   ]
  },
  {
   "cell_type": "code",
   "execution_count": 32,
   "metadata": {},
   "outputs": [],
   "source": [
    "# Creating a Linear Regression model and fitting it to the 3D data\n",
    "lr = LinearRegression()\n",
    "lr.fit(np.array([x, y]).reshape(100, 2), z)\n",
    "\n",
    "# Generating a set of input points to create a surface plot\n",
    "x_input = np.linspace(x.min(), x.max(), 10)\n",
    "y_input = np.linspace(y.min(), y.max(), 10)\n",
    "xGrid, yGrid = np.meshgrid(x_input, y_input)\n",
    "final = np.vstack((xGrid.ravel().reshape(1, 100), yGrid.ravel().reshape(1, 100))).T\n",
    "\n",
    "# Predicting the output (z) values for the input points and reshaping for surface plot\n",
    "z_final = lr.predict(final).reshape(10, 10)"
   ]
  },
  {
   "cell_type": "code",
   "execution_count": 33,
   "metadata": {},
   "outputs": [
    {
     "data": {
      "application/vnd.plotly.v1+json": {
       "config": {
        "plotlyServerURL": "https://plot.ly"
       },
       "data": [
        {
         "hovertemplate": "x=%{x}<br>y=%{y}<br>z=%{z}<extra></extra>",
         "legendgroup": "",
         "marker": {
          "color": "#636efa",
          "symbol": "circle"
         },
         "mode": "markers",
         "name": "",
         "scene": "scene",
         "showlegend": false,
         "type": "scatter3d",
         "x": [
          2.911586985242846,
          2.9067692632390516,
          -1.8951051187834071,
          -2.6009773440469384,
          2.618394064540964,
          0.9261271213782263,
          0.5775691322209546,
          2.6734889413799596,
          0.8803822311890874,
          3.537513722307698,
          -1.1600590352191311,
          -0.8023625393014282,
          -0.8739641188995222,
          1.5197977623610281,
          -2.6958362209564983,
          3.5582329941326183,
          -0.3239381099170231,
          3.407995236977545,
          -0.0817735105740347,
          -1.739740102273496,
          1.213871300626729,
          0.7290069911010137,
          -0.04224507857870652,
          -0.6156348576350439,
          -1.8569596667667376,
          -1.4283552675288915,
          2.153104951098359,
          -1.0455067330873067,
          -2.413972390807242,
          -0.3767244817410442,
          4.158002313690213,
          0.7385946637757272,
          -2.609798560279158,
          -1.6741318927552054,
          3.548063364256059,
          3.029055607714204,
          -0.8955887390101434,
          -0.6160948875839889,
          1.3846955981019669,
          -1.0069165837752523,
          3.523013540113821,
          1.5875898684358747,
          2.704576762715127,
          -2.685500260790478,
          -0.3371699913123596,
          0.2109712555374239,
          2.767054656727744,
          -0.49913550710412213,
          0.8512580661413072,
          1.0291474114583758,
          3.406339156784208,
          1.0164328919067218,
          0.4655622159772701,
          -0.6784615327724723,
          1.8002486011155998,
          3.6877972584475476,
          -1.4560807814291563,
          0.6499157889942349,
          3.933771849148556,
          0.6069075683469949,
          3.690130393619385,
          0.4249331992807108,
          -1.3571034723984265,
          2.495108168480799,
          3.503071510766893,
          1.091145144225612,
          2.5062337641574253,
          2.3659251965462618,
          3.902712439242384,
          -0.0732527146918951,
          0.6905150672577456,
          -1.132132634124666,
          -0.10511655322571167,
          -0.2934824419781439,
          4.044595497446538,
          1.8910994690807055,
          2.4063691307832302,
          -2.777150142789116,
          -1.5995512268561025,
          -1.6024990757476385,
          2.453673083474185,
          3.042872275864826,
          0.07562605135169109,
          3.4043494810304056,
          1.4867700171588574,
          -2.5434677930936624,
          -0.0773548437615812,
          -1.6937856635501274,
          2.1878265345321557,
          -2.277882064810643,
          -1.4241681564257016,
          -1.4503592294698382,
          0.3103510780137695,
          2.315171272596422,
          2.078573258079916,
          1.7547339972257747,
          2.0635547068878237,
          3.007731644697735,
          3.945202393499395,
          0.43991358024396243
         ],
         "y": [
          -1.093305344425485,
          1.349566995098482,
          3.115975241314123,
          3.8683628142189255,
          3.4356250520266345,
          0.4165721209896738,
          -1.1234788874053376,
          2.980348709365548,
          -1.7115380762319283,
          1.1148447648367261,
          4.027123725726579,
          -0.45282037952968546,
          3.174643497719204,
          -1.1917559466381542,
          -0.2099800410418169,
          0.7376136028232008,
          0.5181639358977277,
          3.2521964013194387,
          -0.008770500364891465,
          2.492772572314017,
          3.177528157489169,
          -0.665335210590944,
          3.897402452160234,
          3.906070290668115,
          -2.2237488613287946,
          3.1058296397838836,
          2.0197930764325855,
          0.11350720161383432,
          -0.8355364968574384,
          1.4157081927996007,
          -2.5735069602728244,
          2.0856602315192676,
          1.0232463654032302,
          -2.4887985780756003,
          1.504587898672277,
          2.481064014401958,
          -0.5246272863365506,
          3.515974629142711,
          2.8543390625382896,
          3.4566987302315795,
          0.5928259384215124,
          -1.454523808421761,
          3.1782257761915496,
          1.755395292956142,
          -2.7743731728808028,
          -0.6309975005255888,
          1.2912703823548242,
          -1.6150043126386506,
          3.7750022942297736,
          -1.082902332742029,
          0.48138933311442544,
          1.1984612898285505,
          2.1598340547582433,
          -2.4756903313597274,
          3.2135819787260385,
          1.8157249796291008,
          3.0988684868916136,
          2.504889633503578,
          -1.4630951477836436,
          4.122823783514126,
          1.1779170799930836,
          -1.9956829563716891,
          -2.4112881434971833,
          1.6671000036115293,
          -1.8710715225374797,
          -2.215473039765527,
          -1.918337381338615,
          -1.0390878457295876,
          3.480167612345399,
          4.072685952027569,
          2.3289882349998,
          0.926019564371813,
          -1.3056350539368906,
          -0.6834928279440717,
          -1.8309554720497827,
          4.006713335291195,
          2.4488096011771985,
          2.5845794867671072,
          0.6640938003703272,
          -1.855089149523653,
          -0.17473821815684865,
          2.8598648824586403,
          -1.070596317681337,
          -0.004757464291795355,
          0.12161151163674999,
          1.0374218107699784,
          3.583091652944713,
          3.315860764080626,
          0.3793586291535824,
          -2.1338233155933755,
          -0.02662576399546701,
          -1.9369688289897025,
          1.3635013423519506,
          -2.709244335394488,
          -0.8536433769436682,
          -0.6831011668076581,
          -1.2123077090186989,
          2.570799324057279,
          0.6361389151413546,
          0.8972106520715508
         ],
         "z": [
          13.021101860331644,
          13.331768236231552,
          14.51927817470968,
          22.947014564986766,
          25.563219954893484,
          3.108098721670559,
          4.076684401716029,
          19.858601382454687,
          5.952118587505548,
          16.88894337639108,
          19.851397601320627,
          2.5487703912255886,
          13.516076469672036,
          4.604956718610618,
          9.485542394644838,
          19.101983712042763,
          0.9800221055129741,
          28.463151931742992,
          3.731765844576828,
          10.65236017294482,
          15.103679486883609,
          3.075323615427145,
          19.86231746731302,
          18.123832062195273,
          9.964553453684484,
          16.103069843315453,
          12.706614550958456,
          2.4373179857864455,
          8.536880940474653,
          7.992581059200759,
          23.132508726752455,
          7.066485296101529,
          8.616687165596778,
          9.220186256082185,
          19.683193980551035,
          18.75957265486981,
          0.4785106347703132,
          14.23230491917549,
          16.07861737714905,
          12.987758742060407,
          18.26809833035068,
          6.805012995755073,
          23.775465303784372,
          12.06247785177987,
          8.73054617269933,
          2.325201669210273,
          14.140818773083872,
          4.255013406024266,
          19.35832627013834,
          3.9408751428826463,
          15.197538768173667,
          5.484786596287648,
          8.201168725173089,
          7.7538192702824364,
          18.677173682160483,
          22.58459455938786,
          13.005228307319406,
          9.971077953460291,
          18.696342441118695,
          22.092428313425312,
          21.11217392950722,
          7.925910581424824,
          9.662903126635156,
          13.870384887093143,
          15.80549191441247,
          9.056664201511104,
          10.234122457929896,
          9.636466812303546,
          33.796877260570156,
          21.992893364707736,
          10.418591760006441,
          4.6088318093111775,
          2.740146721739707,
          1.9932423837522837,
          19.593401085659448,
          23.89202036294882,
          17.29418419362691,
          15.616257652340355,
          3.7457733865784664,
          7.61115389342642,
          7.7649911561298985,
          22.808098528825166,
          3.204310858377521,
          16.034006079960047,
          3.983918969235597,
          8.409848101791267,
          16.352494764970277,
          16.569005885756418,
          8.772994603112014,
          10.81060840516423,
          4.1098805467534785,
          5.770961475750128,
          3.618283691221638,
          14.204118810056004,
          7.2807575704534795,
          5.27767311225501,
          7.232658984831901,
          19.91020799991047,
          22.788646409112655,
          3.1145588069471963
         ]
        },
        {
         "type": "surface",
         "x": [
          -2.777150142789116,
          -2.006577647624746,
          -1.236005152460376,
          -0.4654326572960059,
          0.30513983786836407,
          1.075712333032734,
          1.846284828197104,
          2.6168573233614745,
          3.387429818525844,
          4.158002313690213
         ],
         "y": [
          -2.7743731728808028,
          -2.0080179555035884,
          -1.241662738126374,
          -0.4753075207491597,
          0.29104769662805463,
          1.057402914005269,
          1.8237581313824833,
          2.590113348759698,
          3.356468566136912,
          4.122823783514126
         ],
         "z": [
          [
           9.061311625186539,
           9.34619976401004,
           9.63108790283354,
           9.91597604165704,
           10.20086418048054,
           10.48575231930404,
           10.770640458127541,
           11.05552859695104,
           11.340416735774541,
           11.625304874598042
          ],
          [
           9.45707011376233,
           9.741958252585828,
           10.026846391409329,
           10.31173453023283,
           10.59662266905633,
           10.88151080787983,
           11.16639894670333,
           11.45128708552683,
           11.736175224350331,
           12.02106336317383
          ],
          [
           9.852828602338118,
           10.137716741161618,
           10.42260487998512,
           10.70749301880862,
           10.992381157632119,
           11.27726929645562,
           11.56215743527912,
           11.847045574102621,
           12.13193371292612,
           12.41682185174962
          ],
          [
           10.248587090913908,
           10.533475229737409,
           10.818363368560908,
           11.103251507384408,
           11.38813964620791,
           11.67302778503141,
           11.957915923854909,
           12.24280406267841,
           12.52769220150191,
           12.81258034032541
          ],
          [
           10.644345579489697,
           10.929233718313197,
           11.214121857136698,
           11.499009995960199,
           11.783898134783698,
           12.068786273607198,
           12.3536744124307,
           12.6385625512542,
           12.923450690077699,
           13.2083388289012
          ],
          [
           11.040104068065487,
           11.324992206888988,
           11.609880345712487,
           11.894768484535987,
           12.179656623359488,
           12.464544762182989,
           12.749432901006488,
           13.034321039829988,
           13.31920917865349,
           13.604097317476988
          ],
          [
           11.435862556641275,
           11.720750695464776,
           12.005638834288277,
           12.290526973111778,
           12.575415111935277,
           12.860303250758777,
           13.145191389582278,
           13.430079528405779,
           13.714967667229278,
           13.999855806052778
          ],
          [
           11.831621045217066,
           12.116509184040567,
           12.401397322864067,
           12.686285461687568,
           12.971173600511067,
           13.256061739334568,
           13.540949878158067,
           13.825838016981567,
           14.110726155805068,
           14.395614294628569
          ],
          [
           12.227379533792856,
           12.512267672616355,
           12.797155811439856,
           13.082043950263357,
           13.366932089086855,
           13.651820227910356,
           13.936708366733857,
           14.221596505557358,
           14.506484644380858,
           14.791372783204357
          ],
          [
           12.623138022368645,
           12.908026161192145,
           13.192914300015646,
           13.477802438839145,
           13.762690577662646,
           14.047578716486147,
           14.332466855309647,
           14.617354994133146,
           14.902243132956647,
           15.187131271780146
          ]
         ]
        }
       ],
       "layout": {
        "legend": {
         "tracegroupgap": 0
        },
        "margin": {
         "t": 60
        },
        "scene": {
         "domain": {
          "x": [
           0,
           1
          ],
          "y": [
           0,
           1
          ]
         },
         "xaxis": {
          "title": {
           "text": "x"
          }
         },
         "yaxis": {
          "title": {
           "text": "y"
          }
         },
         "zaxis": {
          "range": [
           0,
           35
          ],
          "title": {
           "text": "z"
          }
         }
        },
        "template": {
         "data": {
          "bar": [
           {
            "error_x": {
             "color": "#2a3f5f"
            },
            "error_y": {
             "color": "#2a3f5f"
            },
            "marker": {
             "line": {
              "color": "#E5ECF6",
              "width": 0.5
             },
             "pattern": {
              "fillmode": "overlay",
              "size": 10,
              "solidity": 0.2
             }
            },
            "type": "bar"
           }
          ],
          "barpolar": [
           {
            "marker": {
             "line": {
              "color": "#E5ECF6",
              "width": 0.5
             },
             "pattern": {
              "fillmode": "overlay",
              "size": 10,
              "solidity": 0.2
             }
            },
            "type": "barpolar"
           }
          ],
          "carpet": [
           {
            "aaxis": {
             "endlinecolor": "#2a3f5f",
             "gridcolor": "white",
             "linecolor": "white",
             "minorgridcolor": "white",
             "startlinecolor": "#2a3f5f"
            },
            "baxis": {
             "endlinecolor": "#2a3f5f",
             "gridcolor": "white",
             "linecolor": "white",
             "minorgridcolor": "white",
             "startlinecolor": "#2a3f5f"
            },
            "type": "carpet"
           }
          ],
          "choropleth": [
           {
            "colorbar": {
             "outlinewidth": 0,
             "ticks": ""
            },
            "type": "choropleth"
           }
          ],
          "contour": [
           {
            "colorbar": {
             "outlinewidth": 0,
             "ticks": ""
            },
            "colorscale": [
             [
              0,
              "#0d0887"
             ],
             [
              0.1111111111111111,
              "#46039f"
             ],
             [
              0.2222222222222222,
              "#7201a8"
             ],
             [
              0.3333333333333333,
              "#9c179e"
             ],
             [
              0.4444444444444444,
              "#bd3786"
             ],
             [
              0.5555555555555556,
              "#d8576b"
             ],
             [
              0.6666666666666666,
              "#ed7953"
             ],
             [
              0.7777777777777778,
              "#fb9f3a"
             ],
             [
              0.8888888888888888,
              "#fdca26"
             ],
             [
              1,
              "#f0f921"
             ]
            ],
            "type": "contour"
           }
          ],
          "contourcarpet": [
           {
            "colorbar": {
             "outlinewidth": 0,
             "ticks": ""
            },
            "type": "contourcarpet"
           }
          ],
          "heatmap": [
           {
            "colorbar": {
             "outlinewidth": 0,
             "ticks": ""
            },
            "colorscale": [
             [
              0,
              "#0d0887"
             ],
             [
              0.1111111111111111,
              "#46039f"
             ],
             [
              0.2222222222222222,
              "#7201a8"
             ],
             [
              0.3333333333333333,
              "#9c179e"
             ],
             [
              0.4444444444444444,
              "#bd3786"
             ],
             [
              0.5555555555555556,
              "#d8576b"
             ],
             [
              0.6666666666666666,
              "#ed7953"
             ],
             [
              0.7777777777777778,
              "#fb9f3a"
             ],
             [
              0.8888888888888888,
              "#fdca26"
             ],
             [
              1,
              "#f0f921"
             ]
            ],
            "type": "heatmap"
           }
          ],
          "heatmapgl": [
           {
            "colorbar": {
             "outlinewidth": 0,
             "ticks": ""
            },
            "colorscale": [
             [
              0,
              "#0d0887"
             ],
             [
              0.1111111111111111,
              "#46039f"
             ],
             [
              0.2222222222222222,
              "#7201a8"
             ],
             [
              0.3333333333333333,
              "#9c179e"
             ],
             [
              0.4444444444444444,
              "#bd3786"
             ],
             [
              0.5555555555555556,
              "#d8576b"
             ],
             [
              0.6666666666666666,
              "#ed7953"
             ],
             [
              0.7777777777777778,
              "#fb9f3a"
             ],
             [
              0.8888888888888888,
              "#fdca26"
             ],
             [
              1,
              "#f0f921"
             ]
            ],
            "type": "heatmapgl"
           }
          ],
          "histogram": [
           {
            "marker": {
             "pattern": {
              "fillmode": "overlay",
              "size": 10,
              "solidity": 0.2
             }
            },
            "type": "histogram"
           }
          ],
          "histogram2d": [
           {
            "colorbar": {
             "outlinewidth": 0,
             "ticks": ""
            },
            "colorscale": [
             [
              0,
              "#0d0887"
             ],
             [
              0.1111111111111111,
              "#46039f"
             ],
             [
              0.2222222222222222,
              "#7201a8"
             ],
             [
              0.3333333333333333,
              "#9c179e"
             ],
             [
              0.4444444444444444,
              "#bd3786"
             ],
             [
              0.5555555555555556,
              "#d8576b"
             ],
             [
              0.6666666666666666,
              "#ed7953"
             ],
             [
              0.7777777777777778,
              "#fb9f3a"
             ],
             [
              0.8888888888888888,
              "#fdca26"
             ],
             [
              1,
              "#f0f921"
             ]
            ],
            "type": "histogram2d"
           }
          ],
          "histogram2dcontour": [
           {
            "colorbar": {
             "outlinewidth": 0,
             "ticks": ""
            },
            "colorscale": [
             [
              0,
              "#0d0887"
             ],
             [
              0.1111111111111111,
              "#46039f"
             ],
             [
              0.2222222222222222,
              "#7201a8"
             ],
             [
              0.3333333333333333,
              "#9c179e"
             ],
             [
              0.4444444444444444,
              "#bd3786"
             ],
             [
              0.5555555555555556,
              "#d8576b"
             ],
             [
              0.6666666666666666,
              "#ed7953"
             ],
             [
              0.7777777777777778,
              "#fb9f3a"
             ],
             [
              0.8888888888888888,
              "#fdca26"
             ],
             [
              1,
              "#f0f921"
             ]
            ],
            "type": "histogram2dcontour"
           }
          ],
          "mesh3d": [
           {
            "colorbar": {
             "outlinewidth": 0,
             "ticks": ""
            },
            "type": "mesh3d"
           }
          ],
          "parcoords": [
           {
            "line": {
             "colorbar": {
              "outlinewidth": 0,
              "ticks": ""
             }
            },
            "type": "parcoords"
           }
          ],
          "pie": [
           {
            "automargin": true,
            "type": "pie"
           }
          ],
          "scatter": [
           {
            "fillpattern": {
             "fillmode": "overlay",
             "size": 10,
             "solidity": 0.2
            },
            "type": "scatter"
           }
          ],
          "scatter3d": [
           {
            "line": {
             "colorbar": {
              "outlinewidth": 0,
              "ticks": ""
             }
            },
            "marker": {
             "colorbar": {
              "outlinewidth": 0,
              "ticks": ""
             }
            },
            "type": "scatter3d"
           }
          ],
          "scattercarpet": [
           {
            "marker": {
             "colorbar": {
              "outlinewidth": 0,
              "ticks": ""
             }
            },
            "type": "scattercarpet"
           }
          ],
          "scattergeo": [
           {
            "marker": {
             "colorbar": {
              "outlinewidth": 0,
              "ticks": ""
             }
            },
            "type": "scattergeo"
           }
          ],
          "scattergl": [
           {
            "marker": {
             "colorbar": {
              "outlinewidth": 0,
              "ticks": ""
             }
            },
            "type": "scattergl"
           }
          ],
          "scattermapbox": [
           {
            "marker": {
             "colorbar": {
              "outlinewidth": 0,
              "ticks": ""
             }
            },
            "type": "scattermapbox"
           }
          ],
          "scatterpolar": [
           {
            "marker": {
             "colorbar": {
              "outlinewidth": 0,
              "ticks": ""
             }
            },
            "type": "scatterpolar"
           }
          ],
          "scatterpolargl": [
           {
            "marker": {
             "colorbar": {
              "outlinewidth": 0,
              "ticks": ""
             }
            },
            "type": "scatterpolargl"
           }
          ],
          "scatterternary": [
           {
            "marker": {
             "colorbar": {
              "outlinewidth": 0,
              "ticks": ""
             }
            },
            "type": "scatterternary"
           }
          ],
          "surface": [
           {
            "colorbar": {
             "outlinewidth": 0,
             "ticks": ""
            },
            "colorscale": [
             [
              0,
              "#0d0887"
             ],
             [
              0.1111111111111111,
              "#46039f"
             ],
             [
              0.2222222222222222,
              "#7201a8"
             ],
             [
              0.3333333333333333,
              "#9c179e"
             ],
             [
              0.4444444444444444,
              "#bd3786"
             ],
             [
              0.5555555555555556,
              "#d8576b"
             ],
             [
              0.6666666666666666,
              "#ed7953"
             ],
             [
              0.7777777777777778,
              "#fb9f3a"
             ],
             [
              0.8888888888888888,
              "#fdca26"
             ],
             [
              1,
              "#f0f921"
             ]
            ],
            "type": "surface"
           }
          ],
          "table": [
           {
            "cells": {
             "fill": {
              "color": "#EBF0F8"
             },
             "line": {
              "color": "white"
             }
            },
            "header": {
             "fill": {
              "color": "#C8D4E3"
             },
             "line": {
              "color": "white"
             }
            },
            "type": "table"
           }
          ]
         },
         "layout": {
          "annotationdefaults": {
           "arrowcolor": "#2a3f5f",
           "arrowhead": 0,
           "arrowwidth": 1
          },
          "autotypenumbers": "strict",
          "coloraxis": {
           "colorbar": {
            "outlinewidth": 0,
            "ticks": ""
           }
          },
          "colorscale": {
           "diverging": [
            [
             0,
             "#8e0152"
            ],
            [
             0.1,
             "#c51b7d"
            ],
            [
             0.2,
             "#de77ae"
            ],
            [
             0.3,
             "#f1b6da"
            ],
            [
             0.4,
             "#fde0ef"
            ],
            [
             0.5,
             "#f7f7f7"
            ],
            [
             0.6,
             "#e6f5d0"
            ],
            [
             0.7,
             "#b8e186"
            ],
            [
             0.8,
             "#7fbc41"
            ],
            [
             0.9,
             "#4d9221"
            ],
            [
             1,
             "#276419"
            ]
           ],
           "sequential": [
            [
             0,
             "#0d0887"
            ],
            [
             0.1111111111111111,
             "#46039f"
            ],
            [
             0.2222222222222222,
             "#7201a8"
            ],
            [
             0.3333333333333333,
             "#9c179e"
            ],
            [
             0.4444444444444444,
             "#bd3786"
            ],
            [
             0.5555555555555556,
             "#d8576b"
            ],
            [
             0.6666666666666666,
             "#ed7953"
            ],
            [
             0.7777777777777778,
             "#fb9f3a"
            ],
            [
             0.8888888888888888,
             "#fdca26"
            ],
            [
             1,
             "#f0f921"
            ]
           ],
           "sequentialminus": [
            [
             0,
             "#0d0887"
            ],
            [
             0.1111111111111111,
             "#46039f"
            ],
            [
             0.2222222222222222,
             "#7201a8"
            ],
            [
             0.3333333333333333,
             "#9c179e"
            ],
            [
             0.4444444444444444,
             "#bd3786"
            ],
            [
             0.5555555555555556,
             "#d8576b"
            ],
            [
             0.6666666666666666,
             "#ed7953"
            ],
            [
             0.7777777777777778,
             "#fb9f3a"
            ],
            [
             0.8888888888888888,
             "#fdca26"
            ],
            [
             1,
             "#f0f921"
            ]
           ]
          },
          "colorway": [
           "#636efa",
           "#EF553B",
           "#00cc96",
           "#ab63fa",
           "#FFA15A",
           "#19d3f3",
           "#FF6692",
           "#B6E880",
           "#FF97FF",
           "#FECB52"
          ],
          "font": {
           "color": "#2a3f5f"
          },
          "geo": {
           "bgcolor": "white",
           "lakecolor": "white",
           "landcolor": "#E5ECF6",
           "showlakes": true,
           "showland": true,
           "subunitcolor": "white"
          },
          "hoverlabel": {
           "align": "left"
          },
          "hovermode": "closest",
          "mapbox": {
           "style": "light"
          },
          "paper_bgcolor": "white",
          "plot_bgcolor": "#E5ECF6",
          "polar": {
           "angularaxis": {
            "gridcolor": "white",
            "linecolor": "white",
            "ticks": ""
           },
           "bgcolor": "#E5ECF6",
           "radialaxis": {
            "gridcolor": "white",
            "linecolor": "white",
            "ticks": ""
           }
          },
          "scene": {
           "xaxis": {
            "backgroundcolor": "#E5ECF6",
            "gridcolor": "white",
            "gridwidth": 2,
            "linecolor": "white",
            "showbackground": true,
            "ticks": "",
            "zerolinecolor": "white"
           },
           "yaxis": {
            "backgroundcolor": "#E5ECF6",
            "gridcolor": "white",
            "gridwidth": 2,
            "linecolor": "white",
            "showbackground": true,
            "ticks": "",
            "zerolinecolor": "white"
           },
           "zaxis": {
            "backgroundcolor": "#E5ECF6",
            "gridcolor": "white",
            "gridwidth": 2,
            "linecolor": "white",
            "showbackground": true,
            "ticks": "",
            "zerolinecolor": "white"
           }
          },
          "shapedefaults": {
           "line": {
            "color": "#2a3f5f"
           }
          },
          "ternary": {
           "aaxis": {
            "gridcolor": "white",
            "linecolor": "white",
            "ticks": ""
           },
           "baxis": {
            "gridcolor": "white",
            "linecolor": "white",
            "ticks": ""
           },
           "bgcolor": "#E5ECF6",
           "caxis": {
            "gridcolor": "white",
            "linecolor": "white",
            "ticks": ""
           }
          },
          "title": {
           "x": 0.05
          },
          "xaxis": {
           "automargin": true,
           "gridcolor": "white",
           "linecolor": "white",
           "ticks": "",
           "title": {
            "standoff": 15
           },
           "zerolinecolor": "white",
           "zerolinewidth": 2
          },
          "yaxis": {
           "automargin": true,
           "gridcolor": "white",
           "linecolor": "white",
           "ticks": "",
           "title": {
            "standoff": 15
           },
           "zerolinecolor": "white",
           "zerolinewidth": 2
          }
         }
        }
       }
      }
     },
     "metadata": {},
     "output_type": "display_data"
    }
   ],
   "source": [
    "# Adding the surface plot of the linear regression model to the scatter plot\n",
    "fig.add_trace(go.Surface(x=x_input, y=y_input, z=z_final))\n",
    "fig.update_layout(scene=dict(zaxis=dict(range=[0, 35])))\n",
    "fig.show()"
   ]
  },
  {
   "cell_type": "markdown",
   "metadata": {},
   "source": [
    "##### Applying Polynomial Regression"
   ]
  },
  {
   "cell_type": "code",
   "execution_count": 34,
   "metadata": {},
   "outputs": [],
   "source": [
    "# Polynomial Regression on the data\n",
    "polynomial_features = PolynomialFeatures(degree=2)\n",
    "\n",
    "# By using np.hstack((x, y)), you concatenate x and y horizontally, resulting in a 2D array with two columns, \n",
    "# which is the correct format for input features in scikit-learn's regression models.\n",
    "X_multi = np.hstack((x, y))\n",
    "\n",
    "# Transforming the data with polynomial features\n",
    "X_multi_trans = polynomial_features.fit_transform(X_multi)\n",
    "\n",
    "# Creating and fitting a Linear Regression model with polynomial features\n",
    "lr_polynomial_features = LinearRegression()\n",
    "lr_polynomial_features.fit(X_multi_trans, z)\n",
    "\n",
    "# Transforming the test input points with polynomial features and predicting the output (z) values\n",
    "X_test_multi = polynomial_features.transform(final)\n",
    "z_final_polynomial_features = lr_polynomial_features.predict(X_test_multi).reshape(10, 10)"
   ]
  },
  {
   "cell_type": "code",
   "execution_count": 35,
   "metadata": {},
   "outputs": [
    {
     "data": {
      "application/vnd.plotly.v1+json": {
       "config": {
        "plotlyServerURL": "https://plot.ly"
       },
       "data": [
        {
         "hovertemplate": "x=%{x}<br>y=%{y}<br>z=%{z}<extra></extra>",
         "legendgroup": "",
         "marker": {
          "color": "#636efa",
          "symbol": "circle"
         },
         "mode": "markers",
         "name": "",
         "scene": "scene",
         "showlegend": false,
         "type": "scatter3d",
         "x": [
          2.911586985242846,
          2.9067692632390516,
          -1.8951051187834071,
          -2.6009773440469384,
          2.618394064540964,
          0.9261271213782263,
          0.5775691322209546,
          2.6734889413799596,
          0.8803822311890874,
          3.537513722307698,
          -1.1600590352191311,
          -0.8023625393014282,
          -0.8739641188995222,
          1.5197977623610281,
          -2.6958362209564983,
          3.5582329941326183,
          -0.3239381099170231,
          3.407995236977545,
          -0.0817735105740347,
          -1.739740102273496,
          1.213871300626729,
          0.7290069911010137,
          -0.04224507857870652,
          -0.6156348576350439,
          -1.8569596667667376,
          -1.4283552675288915,
          2.153104951098359,
          -1.0455067330873067,
          -2.413972390807242,
          -0.3767244817410442,
          4.158002313690213,
          0.7385946637757272,
          -2.609798560279158,
          -1.6741318927552054,
          3.548063364256059,
          3.029055607714204,
          -0.8955887390101434,
          -0.6160948875839889,
          1.3846955981019669,
          -1.0069165837752523,
          3.523013540113821,
          1.5875898684358747,
          2.704576762715127,
          -2.685500260790478,
          -0.3371699913123596,
          0.2109712555374239,
          2.767054656727744,
          -0.49913550710412213,
          0.8512580661413072,
          1.0291474114583758,
          3.406339156784208,
          1.0164328919067218,
          0.4655622159772701,
          -0.6784615327724723,
          1.8002486011155998,
          3.6877972584475476,
          -1.4560807814291563,
          0.6499157889942349,
          3.933771849148556,
          0.6069075683469949,
          3.690130393619385,
          0.4249331992807108,
          -1.3571034723984265,
          2.495108168480799,
          3.503071510766893,
          1.091145144225612,
          2.5062337641574253,
          2.3659251965462618,
          3.902712439242384,
          -0.0732527146918951,
          0.6905150672577456,
          -1.132132634124666,
          -0.10511655322571167,
          -0.2934824419781439,
          4.044595497446538,
          1.8910994690807055,
          2.4063691307832302,
          -2.777150142789116,
          -1.5995512268561025,
          -1.6024990757476385,
          2.453673083474185,
          3.042872275864826,
          0.07562605135169109,
          3.4043494810304056,
          1.4867700171588574,
          -2.5434677930936624,
          -0.0773548437615812,
          -1.6937856635501274,
          2.1878265345321557,
          -2.277882064810643,
          -1.4241681564257016,
          -1.4503592294698382,
          0.3103510780137695,
          2.315171272596422,
          2.078573258079916,
          1.7547339972257747,
          2.0635547068878237,
          3.007731644697735,
          3.945202393499395,
          0.43991358024396243
         ],
         "y": [
          -1.093305344425485,
          1.349566995098482,
          3.115975241314123,
          3.8683628142189255,
          3.4356250520266345,
          0.4165721209896738,
          -1.1234788874053376,
          2.980348709365548,
          -1.7115380762319283,
          1.1148447648367261,
          4.027123725726579,
          -0.45282037952968546,
          3.174643497719204,
          -1.1917559466381542,
          -0.2099800410418169,
          0.7376136028232008,
          0.5181639358977277,
          3.2521964013194387,
          -0.008770500364891465,
          2.492772572314017,
          3.177528157489169,
          -0.665335210590944,
          3.897402452160234,
          3.906070290668115,
          -2.2237488613287946,
          3.1058296397838836,
          2.0197930764325855,
          0.11350720161383432,
          -0.8355364968574384,
          1.4157081927996007,
          -2.5735069602728244,
          2.0856602315192676,
          1.0232463654032302,
          -2.4887985780756003,
          1.504587898672277,
          2.481064014401958,
          -0.5246272863365506,
          3.515974629142711,
          2.8543390625382896,
          3.4566987302315795,
          0.5928259384215124,
          -1.454523808421761,
          3.1782257761915496,
          1.755395292956142,
          -2.7743731728808028,
          -0.6309975005255888,
          1.2912703823548242,
          -1.6150043126386506,
          3.7750022942297736,
          -1.082902332742029,
          0.48138933311442544,
          1.1984612898285505,
          2.1598340547582433,
          -2.4756903313597274,
          3.2135819787260385,
          1.8157249796291008,
          3.0988684868916136,
          2.504889633503578,
          -1.4630951477836436,
          4.122823783514126,
          1.1779170799930836,
          -1.9956829563716891,
          -2.4112881434971833,
          1.6671000036115293,
          -1.8710715225374797,
          -2.215473039765527,
          -1.918337381338615,
          -1.0390878457295876,
          3.480167612345399,
          4.072685952027569,
          2.3289882349998,
          0.926019564371813,
          -1.3056350539368906,
          -0.6834928279440717,
          -1.8309554720497827,
          4.006713335291195,
          2.4488096011771985,
          2.5845794867671072,
          0.6640938003703272,
          -1.855089149523653,
          -0.17473821815684865,
          2.8598648824586403,
          -1.070596317681337,
          -0.004757464291795355,
          0.12161151163674999,
          1.0374218107699784,
          3.583091652944713,
          3.315860764080626,
          0.3793586291535824,
          -2.1338233155933755,
          -0.02662576399546701,
          -1.9369688289897025,
          1.3635013423519506,
          -2.709244335394488,
          -0.8536433769436682,
          -0.6831011668076581,
          -1.2123077090186989,
          2.570799324057279,
          0.6361389151413546,
          0.8972106520715508
         ],
         "z": [
          13.021101860331644,
          13.331768236231552,
          14.51927817470968,
          22.947014564986766,
          25.563219954893484,
          3.108098721670559,
          4.076684401716029,
          19.858601382454687,
          5.952118587505548,
          16.88894337639108,
          19.851397601320627,
          2.5487703912255886,
          13.516076469672036,
          4.604956718610618,
          9.485542394644838,
          19.101983712042763,
          0.9800221055129741,
          28.463151931742992,
          3.731765844576828,
          10.65236017294482,
          15.103679486883609,
          3.075323615427145,
          19.86231746731302,
          18.123832062195273,
          9.964553453684484,
          16.103069843315453,
          12.706614550958456,
          2.4373179857864455,
          8.536880940474653,
          7.992581059200759,
          23.132508726752455,
          7.066485296101529,
          8.616687165596778,
          9.220186256082185,
          19.683193980551035,
          18.75957265486981,
          0.4785106347703132,
          14.23230491917549,
          16.07861737714905,
          12.987758742060407,
          18.26809833035068,
          6.805012995755073,
          23.775465303784372,
          12.06247785177987,
          8.73054617269933,
          2.325201669210273,
          14.140818773083872,
          4.255013406024266,
          19.35832627013834,
          3.9408751428826463,
          15.197538768173667,
          5.484786596287648,
          8.201168725173089,
          7.7538192702824364,
          18.677173682160483,
          22.58459455938786,
          13.005228307319406,
          9.971077953460291,
          18.696342441118695,
          22.092428313425312,
          21.11217392950722,
          7.925910581424824,
          9.662903126635156,
          13.870384887093143,
          15.80549191441247,
          9.056664201511104,
          10.234122457929896,
          9.636466812303546,
          33.796877260570156,
          21.992893364707736,
          10.418591760006441,
          4.6088318093111775,
          2.740146721739707,
          1.9932423837522837,
          19.593401085659448,
          23.89202036294882,
          17.29418419362691,
          15.616257652340355,
          3.7457733865784664,
          7.61115389342642,
          7.7649911561298985,
          22.808098528825166,
          3.204310858377521,
          16.034006079960047,
          3.983918969235597,
          8.409848101791267,
          16.352494764970277,
          16.569005885756418,
          8.772994603112014,
          10.81060840516423,
          4.1098805467534785,
          5.770961475750128,
          3.618283691221638,
          14.204118810056004,
          7.2807575704534795,
          5.27767311225501,
          7.232658984831901,
          19.91020799991047,
          22.788646409112655,
          3.1145588069471963
         ]
        },
        {
         "type": "surface",
         "x": [
          -2.777150142789116,
          -2.006577647624746,
          -1.236005152460376,
          -0.4654326572960059,
          0.30513983786836407,
          1.075712333032734,
          1.846284828197104,
          2.6168573233614745,
          3.387429818525844,
          4.158002313690213
         ],
         "y": [
          -2.7743731728808028,
          -2.0080179555035884,
          -1.241662738126374,
          -0.4753075207491597,
          0.29104769662805463,
          1.057402914005269,
          1.8237581313824833,
          2.590113348759698,
          3.356468566136912,
          4.122823783514126
         ],
         "z": [
          [
           16.666948718137412,
           12.889205432948328,
           10.291572118676102,
           8.874048775320734,
           8.63663540288222,
           9.579332001360566,
           11.702138570755764,
           15.005055111067824,
           19.488081622296736,
           25.151218104442503
          ],
          [
           13.037276684581183,
           9.361441300181323,
           6.865715886698318,
           5.5501004441321715,
           5.414594972482881,
           6.459199471750447,
           8.683913941934868,
           12.08873838303615,
           16.673672795054284,
           22.43871717798927
          ],
          [
           10.556764458780526,
           6.982836975169886,
           4.589019462476104,
           3.3753119206991786,
           3.3417143498391098,
           4.488226749895897,
           6.814849120869542,
           10.321581462760044,
           15.0084237755674,
           20.875376059291607
          ],
          [
           9.225412040735435,
           5.753392457914019,
           3.4614828460094587,
           2.349683205021755,
           2.4179935349509076,
           3.666413835796917,
           6.094944107559783,
           9.703584350239506,
           14.492334563836085,
           20.461194748349513
          ],
          [
           9.043219430445916,
           5.67310774841372,
           3.483106037298382,
           2.4732142970999,
           2.643432527818274,
           3.9937607294535056,
           6.524198902005593,
           10.234747045474538,
           15.125405159860337,
           21.19617324516299
          ],
          [
           10.010186627911963,
           6.741982846668991,
           4.653889036342875,
           3.745905196933614,
           4.018031328441211,
           5.470267430865663,
           8.102613504206973,
           11.91506954846514,
           16.907635563640163,
           23.08031154973203
          ],
          [
           12.12631363313358,
           8.960017752679828,
           6.973831843142935,
           6.167755904522896,
           6.541789936819715,
           8.095933940033389,
           10.83018791416392,
           14.74455185921131,
           19.83902577517555,
           26.113609662056646
          ],
          [
           15.39160044611077,
           12.327212466446241,
           10.442934457698566,
           9.73876641986775,
           10.21470835295379,
           11.870760256956686,
           14.70692213187644,
           18.723193977713052,
           23.919575794466514,
           30.296067582136832
          ],
          [
           19.806047066843526,
           16.843566987968217,
           15.061196880009764,
           14.45893674296817,
           15.036786576843431,
           16.794746381635548,
           19.732816157344523,
           23.850995903970357,
           29.149285621513044,
           35.627685309972584
          ],
          [
           25.36965349533185,
           22.509081317245762,
           20.82861911007653,
           20.32826687382416,
           21.00802460848864,
           22.86789231406998,
           25.90786999056818,
           30.127957637983236,
           35.52815525631514,
           42.1084628455639
          ]
         ]
        }
       ],
       "layout": {
        "legend": {
         "tracegroupgap": 0
        },
        "margin": {
         "t": 60
        },
        "scene": {
         "domain": {
          "x": [
           0,
           1
          ],
          "y": [
           0,
           1
          ]
         },
         "xaxis": {
          "title": {
           "text": "x"
          }
         },
         "yaxis": {
          "title": {
           "text": "y"
          }
         },
         "zaxis": {
          "range": [
           0,
           35
          ],
          "title": {
           "text": "z"
          }
         }
        },
        "template": {
         "data": {
          "bar": [
           {
            "error_x": {
             "color": "#2a3f5f"
            },
            "error_y": {
             "color": "#2a3f5f"
            },
            "marker": {
             "line": {
              "color": "#E5ECF6",
              "width": 0.5
             },
             "pattern": {
              "fillmode": "overlay",
              "size": 10,
              "solidity": 0.2
             }
            },
            "type": "bar"
           }
          ],
          "barpolar": [
           {
            "marker": {
             "line": {
              "color": "#E5ECF6",
              "width": 0.5
             },
             "pattern": {
              "fillmode": "overlay",
              "size": 10,
              "solidity": 0.2
             }
            },
            "type": "barpolar"
           }
          ],
          "carpet": [
           {
            "aaxis": {
             "endlinecolor": "#2a3f5f",
             "gridcolor": "white",
             "linecolor": "white",
             "minorgridcolor": "white",
             "startlinecolor": "#2a3f5f"
            },
            "baxis": {
             "endlinecolor": "#2a3f5f",
             "gridcolor": "white",
             "linecolor": "white",
             "minorgridcolor": "white",
             "startlinecolor": "#2a3f5f"
            },
            "type": "carpet"
           }
          ],
          "choropleth": [
           {
            "colorbar": {
             "outlinewidth": 0,
             "ticks": ""
            },
            "type": "choropleth"
           }
          ],
          "contour": [
           {
            "colorbar": {
             "outlinewidth": 0,
             "ticks": ""
            },
            "colorscale": [
             [
              0,
              "#0d0887"
             ],
             [
              0.1111111111111111,
              "#46039f"
             ],
             [
              0.2222222222222222,
              "#7201a8"
             ],
             [
              0.3333333333333333,
              "#9c179e"
             ],
             [
              0.4444444444444444,
              "#bd3786"
             ],
             [
              0.5555555555555556,
              "#d8576b"
             ],
             [
              0.6666666666666666,
              "#ed7953"
             ],
             [
              0.7777777777777778,
              "#fb9f3a"
             ],
             [
              0.8888888888888888,
              "#fdca26"
             ],
             [
              1,
              "#f0f921"
             ]
            ],
            "type": "contour"
           }
          ],
          "contourcarpet": [
           {
            "colorbar": {
             "outlinewidth": 0,
             "ticks": ""
            },
            "type": "contourcarpet"
           }
          ],
          "heatmap": [
           {
            "colorbar": {
             "outlinewidth": 0,
             "ticks": ""
            },
            "colorscale": [
             [
              0,
              "#0d0887"
             ],
             [
              0.1111111111111111,
              "#46039f"
             ],
             [
              0.2222222222222222,
              "#7201a8"
             ],
             [
              0.3333333333333333,
              "#9c179e"
             ],
             [
              0.4444444444444444,
              "#bd3786"
             ],
             [
              0.5555555555555556,
              "#d8576b"
             ],
             [
              0.6666666666666666,
              "#ed7953"
             ],
             [
              0.7777777777777778,
              "#fb9f3a"
             ],
             [
              0.8888888888888888,
              "#fdca26"
             ],
             [
              1,
              "#f0f921"
             ]
            ],
            "type": "heatmap"
           }
          ],
          "heatmapgl": [
           {
            "colorbar": {
             "outlinewidth": 0,
             "ticks": ""
            },
            "colorscale": [
             [
              0,
              "#0d0887"
             ],
             [
              0.1111111111111111,
              "#46039f"
             ],
             [
              0.2222222222222222,
              "#7201a8"
             ],
             [
              0.3333333333333333,
              "#9c179e"
             ],
             [
              0.4444444444444444,
              "#bd3786"
             ],
             [
              0.5555555555555556,
              "#d8576b"
             ],
             [
              0.6666666666666666,
              "#ed7953"
             ],
             [
              0.7777777777777778,
              "#fb9f3a"
             ],
             [
              0.8888888888888888,
              "#fdca26"
             ],
             [
              1,
              "#f0f921"
             ]
            ],
            "type": "heatmapgl"
           }
          ],
          "histogram": [
           {
            "marker": {
             "pattern": {
              "fillmode": "overlay",
              "size": 10,
              "solidity": 0.2
             }
            },
            "type": "histogram"
           }
          ],
          "histogram2d": [
           {
            "colorbar": {
             "outlinewidth": 0,
             "ticks": ""
            },
            "colorscale": [
             [
              0,
              "#0d0887"
             ],
             [
              0.1111111111111111,
              "#46039f"
             ],
             [
              0.2222222222222222,
              "#7201a8"
             ],
             [
              0.3333333333333333,
              "#9c179e"
             ],
             [
              0.4444444444444444,
              "#bd3786"
             ],
             [
              0.5555555555555556,
              "#d8576b"
             ],
             [
              0.6666666666666666,
              "#ed7953"
             ],
             [
              0.7777777777777778,
              "#fb9f3a"
             ],
             [
              0.8888888888888888,
              "#fdca26"
             ],
             [
              1,
              "#f0f921"
             ]
            ],
            "type": "histogram2d"
           }
          ],
          "histogram2dcontour": [
           {
            "colorbar": {
             "outlinewidth": 0,
             "ticks": ""
            },
            "colorscale": [
             [
              0,
              "#0d0887"
             ],
             [
              0.1111111111111111,
              "#46039f"
             ],
             [
              0.2222222222222222,
              "#7201a8"
             ],
             [
              0.3333333333333333,
              "#9c179e"
             ],
             [
              0.4444444444444444,
              "#bd3786"
             ],
             [
              0.5555555555555556,
              "#d8576b"
             ],
             [
              0.6666666666666666,
              "#ed7953"
             ],
             [
              0.7777777777777778,
              "#fb9f3a"
             ],
             [
              0.8888888888888888,
              "#fdca26"
             ],
             [
              1,
              "#f0f921"
             ]
            ],
            "type": "histogram2dcontour"
           }
          ],
          "mesh3d": [
           {
            "colorbar": {
             "outlinewidth": 0,
             "ticks": ""
            },
            "type": "mesh3d"
           }
          ],
          "parcoords": [
           {
            "line": {
             "colorbar": {
              "outlinewidth": 0,
              "ticks": ""
             }
            },
            "type": "parcoords"
           }
          ],
          "pie": [
           {
            "automargin": true,
            "type": "pie"
           }
          ],
          "scatter": [
           {
            "fillpattern": {
             "fillmode": "overlay",
             "size": 10,
             "solidity": 0.2
            },
            "type": "scatter"
           }
          ],
          "scatter3d": [
           {
            "line": {
             "colorbar": {
              "outlinewidth": 0,
              "ticks": ""
             }
            },
            "marker": {
             "colorbar": {
              "outlinewidth": 0,
              "ticks": ""
             }
            },
            "type": "scatter3d"
           }
          ],
          "scattercarpet": [
           {
            "marker": {
             "colorbar": {
              "outlinewidth": 0,
              "ticks": ""
             }
            },
            "type": "scattercarpet"
           }
          ],
          "scattergeo": [
           {
            "marker": {
             "colorbar": {
              "outlinewidth": 0,
              "ticks": ""
             }
            },
            "type": "scattergeo"
           }
          ],
          "scattergl": [
           {
            "marker": {
             "colorbar": {
              "outlinewidth": 0,
              "ticks": ""
             }
            },
            "type": "scattergl"
           }
          ],
          "scattermapbox": [
           {
            "marker": {
             "colorbar": {
              "outlinewidth": 0,
              "ticks": ""
             }
            },
            "type": "scattermapbox"
           }
          ],
          "scatterpolar": [
           {
            "marker": {
             "colorbar": {
              "outlinewidth": 0,
              "ticks": ""
             }
            },
            "type": "scatterpolar"
           }
          ],
          "scatterpolargl": [
           {
            "marker": {
             "colorbar": {
              "outlinewidth": 0,
              "ticks": ""
             }
            },
            "type": "scatterpolargl"
           }
          ],
          "scatterternary": [
           {
            "marker": {
             "colorbar": {
              "outlinewidth": 0,
              "ticks": ""
             }
            },
            "type": "scatterternary"
           }
          ],
          "surface": [
           {
            "colorbar": {
             "outlinewidth": 0,
             "ticks": ""
            },
            "colorscale": [
             [
              0,
              "#0d0887"
             ],
             [
              0.1111111111111111,
              "#46039f"
             ],
             [
              0.2222222222222222,
              "#7201a8"
             ],
             [
              0.3333333333333333,
              "#9c179e"
             ],
             [
              0.4444444444444444,
              "#bd3786"
             ],
             [
              0.5555555555555556,
              "#d8576b"
             ],
             [
              0.6666666666666666,
              "#ed7953"
             ],
             [
              0.7777777777777778,
              "#fb9f3a"
             ],
             [
              0.8888888888888888,
              "#fdca26"
             ],
             [
              1,
              "#f0f921"
             ]
            ],
            "type": "surface"
           }
          ],
          "table": [
           {
            "cells": {
             "fill": {
              "color": "#EBF0F8"
             },
             "line": {
              "color": "white"
             }
            },
            "header": {
             "fill": {
              "color": "#C8D4E3"
             },
             "line": {
              "color": "white"
             }
            },
            "type": "table"
           }
          ]
         },
         "layout": {
          "annotationdefaults": {
           "arrowcolor": "#2a3f5f",
           "arrowhead": 0,
           "arrowwidth": 1
          },
          "autotypenumbers": "strict",
          "coloraxis": {
           "colorbar": {
            "outlinewidth": 0,
            "ticks": ""
           }
          },
          "colorscale": {
           "diverging": [
            [
             0,
             "#8e0152"
            ],
            [
             0.1,
             "#c51b7d"
            ],
            [
             0.2,
             "#de77ae"
            ],
            [
             0.3,
             "#f1b6da"
            ],
            [
             0.4,
             "#fde0ef"
            ],
            [
             0.5,
             "#f7f7f7"
            ],
            [
             0.6,
             "#e6f5d0"
            ],
            [
             0.7,
             "#b8e186"
            ],
            [
             0.8,
             "#7fbc41"
            ],
            [
             0.9,
             "#4d9221"
            ],
            [
             1,
             "#276419"
            ]
           ],
           "sequential": [
            [
             0,
             "#0d0887"
            ],
            [
             0.1111111111111111,
             "#46039f"
            ],
            [
             0.2222222222222222,
             "#7201a8"
            ],
            [
             0.3333333333333333,
             "#9c179e"
            ],
            [
             0.4444444444444444,
             "#bd3786"
            ],
            [
             0.5555555555555556,
             "#d8576b"
            ],
            [
             0.6666666666666666,
             "#ed7953"
            ],
            [
             0.7777777777777778,
             "#fb9f3a"
            ],
            [
             0.8888888888888888,
             "#fdca26"
            ],
            [
             1,
             "#f0f921"
            ]
           ],
           "sequentialminus": [
            [
             0,
             "#0d0887"
            ],
            [
             0.1111111111111111,
             "#46039f"
            ],
            [
             0.2222222222222222,
             "#7201a8"
            ],
            [
             0.3333333333333333,
             "#9c179e"
            ],
            [
             0.4444444444444444,
             "#bd3786"
            ],
            [
             0.5555555555555556,
             "#d8576b"
            ],
            [
             0.6666666666666666,
             "#ed7953"
            ],
            [
             0.7777777777777778,
             "#fb9f3a"
            ],
            [
             0.8888888888888888,
             "#fdca26"
            ],
            [
             1,
             "#f0f921"
            ]
           ]
          },
          "colorway": [
           "#636efa",
           "#EF553B",
           "#00cc96",
           "#ab63fa",
           "#FFA15A",
           "#19d3f3",
           "#FF6692",
           "#B6E880",
           "#FF97FF",
           "#FECB52"
          ],
          "font": {
           "color": "#2a3f5f"
          },
          "geo": {
           "bgcolor": "white",
           "lakecolor": "white",
           "landcolor": "#E5ECF6",
           "showlakes": true,
           "showland": true,
           "subunitcolor": "white"
          },
          "hoverlabel": {
           "align": "left"
          },
          "hovermode": "closest",
          "mapbox": {
           "style": "light"
          },
          "paper_bgcolor": "white",
          "plot_bgcolor": "#E5ECF6",
          "polar": {
           "angularaxis": {
            "gridcolor": "white",
            "linecolor": "white",
            "ticks": ""
           },
           "bgcolor": "#E5ECF6",
           "radialaxis": {
            "gridcolor": "white",
            "linecolor": "white",
            "ticks": ""
           }
          },
          "scene": {
           "xaxis": {
            "backgroundcolor": "#E5ECF6",
            "gridcolor": "white",
            "gridwidth": 2,
            "linecolor": "white",
            "showbackground": true,
            "ticks": "",
            "zerolinecolor": "white"
           },
           "yaxis": {
            "backgroundcolor": "#E5ECF6",
            "gridcolor": "white",
            "gridwidth": 2,
            "linecolor": "white",
            "showbackground": true,
            "ticks": "",
            "zerolinecolor": "white"
           },
           "zaxis": {
            "backgroundcolor": "#E5ECF6",
            "gridcolor": "white",
            "gridwidth": 2,
            "linecolor": "white",
            "showbackground": true,
            "ticks": "",
            "zerolinecolor": "white"
           }
          },
          "shapedefaults": {
           "line": {
            "color": "#2a3f5f"
           }
          },
          "ternary": {
           "aaxis": {
            "gridcolor": "white",
            "linecolor": "white",
            "ticks": ""
           },
           "baxis": {
            "gridcolor": "white",
            "linecolor": "white",
            "ticks": ""
           },
           "bgcolor": "#E5ECF6",
           "caxis": {
            "gridcolor": "white",
            "linecolor": "white",
            "ticks": ""
           }
          },
          "title": {
           "x": 0.05
          },
          "xaxis": {
           "automargin": true,
           "gridcolor": "white",
           "linecolor": "white",
           "ticks": "",
           "title": {
            "standoff": 15
           },
           "zerolinecolor": "white",
           "zerolinewidth": 2
          },
          "yaxis": {
           "automargin": true,
           "gridcolor": "white",
           "linecolor": "white",
           "ticks": "",
           "title": {
            "standoff": 15
           },
           "zerolinecolor": "white",
           "zerolinewidth": 2
          }
         }
        }
       }
      }
     },
     "metadata": {},
     "output_type": "display_data"
    }
   ],
   "source": [
    "# Creating a new scatter plot and adding the surface plot of the polynomial regression model\n",
    "fig_poly = px.scatter_3d(x=x.ravel(), y=y.ravel(), z=z.ravel())\n",
    "fig_poly.add_trace(go.Surface(x=x_input, y=y_input, z=z_final_polynomial_features))\n",
    "fig_poly.update_layout(scene=dict(zaxis=dict(range=[0, 35])))\n",
    "fig_poly.show()"
   ]
  },
  {
   "cell_type": "code",
   "execution_count": 36,
   "metadata": {},
   "outputs": [
    {
     "name": "stdout",
     "output_type": "stream",
     "text": [
      "Input Features: 2\n",
      "Ouput Features: 6\n",
      "Powers\n",
      " [[0 0]\n",
      " [1 0]\n",
      " [0 1]\n",
      " [2 0]\n",
      " [1 1]\n",
      " [0 2]]\n"
     ]
    }
   ],
   "source": [
    "print(\"Input Features:\",polynomial_features.n_features_in_)\n",
    "print(\"Ouput Features:\",polynomial_features.n_output_features_)\n",
    "print(\"Powers\\n\",polynomial_features.powers_)"
   ]
  },
  {
   "cell_type": "code",
   "execution_count": 37,
   "metadata": {},
   "outputs": [
    {
     "name": "stdout",
     "output_type": "stream",
     "text": [
      "[[0.         0.32995913 0.42178143 0.99372331 0.17256958 0.97834087]]\n",
      "[2.22926445]\n"
     ]
    }
   ],
   "source": [
    "# Polynomial coefficients and intercept\n",
    "print(lr_polynomial_features.coef_)\n",
    "print(lr_polynomial_features.intercept_)"
   ]
  },
  {
   "cell_type": "markdown",
   "metadata": {},
   "source": [
    "We can note that: We have approximately similar coefficients and intercept as per our equation.\n",
    "\n",
    "Also, it is important to note that it won't be ever exactly same due to addition of noise.\n"
   ]
  },
  {
   "cell_type": "code",
   "execution_count": 38,
   "metadata": {},
   "outputs": [],
   "source": [
    "def plot_polynomial_graph(degree):\n",
    "    # Randomly generating 100 points for x and y in the range [-2.8, 4.2]\n",
    "    x = 7 * np.random.rand(100, 1) - 2.8\n",
    "    y = 7 * np.random.rand(100, 1) - 2.8\n",
    "\n",
    "    # Creating a quadratic relationship in 3D space with some additional terms and noise\n",
    "    z = x**2 + y**2 + 0.4 * x + 0.4 * y + 0.2 * x * y + 2 + np.random.randn(100, 1)\n",
    "\n",
    "    # Polynomial Regression on the data\n",
    "    polynomial_features = PolynomialFeatures(degree=degree)\n",
    "\n",
    "    # Concatenating x and y horizontally\n",
    "    X_multi = np.hstack((x, y))\n",
    "\n",
    "    # Transforming the data with polynomial features\n",
    "    X_multi_trans = polynomial_features.fit_transform(X_multi)\n",
    "\n",
    "    # Creating and fitting a Linear Regression model with polynomial features\n",
    "    lr_polynomial_features = LinearRegression()\n",
    "    lr_polynomial_features.fit(X_multi_trans, z)\n",
    "\n",
    "    # Generating a set of input points to create a surface plot\n",
    "    x_input = np.linspace(x.min(), x.max(), 10)\n",
    "    y_input = np.linspace(y.min(), y.max(), 10)\n",
    "    xGrid, yGrid = np.meshgrid(x_input, y_input)\n",
    "    final = np.vstack((xGrid.ravel().reshape(1, 100), yGrid.ravel().reshape(1, 100))).T\n",
    "\n",
    "    # Transforming the test input points with polynomial features and predicting the output (z) values\n",
    "    X_test_multi = polynomial_features.transform(final)\n",
    "    z_final_polynomial_features = lr_polynomial_features.predict(X_test_multi).reshape(10, 10)\n",
    "\n",
    "    # Creating a scatter plot and adding the surface plot of the polynomial regression model\n",
    "    fig_poly = px.scatter_3d(x=x.ravel(), y=y.ravel(), z=z.ravel())\n",
    "    fig_poly.add_trace(go.Surface(x=x_input, y=y_input, z=z_final_polynomial_features))\n",
    "    fig_poly.update_layout(scene=dict(zaxis=dict(range=[0, 35])))\n",
    "    fig_poly.show()"
   ]
  },
  {
   "cell_type": "code",
   "execution_count": 39,
   "metadata": {},
   "outputs": [
    {
     "data": {
      "application/vnd.plotly.v1+json": {
       "config": {
        "plotlyServerURL": "https://plot.ly"
       },
       "data": [
        {
         "hovertemplate": "x=%{x}<br>y=%{y}<br>z=%{z}<extra></extra>",
         "legendgroup": "",
         "marker": {
          "color": "#636efa",
          "symbol": "circle"
         },
         "mode": "markers",
         "name": "",
         "scene": "scene",
         "showlegend": false,
         "type": "scatter3d",
         "x": [
          2.28895856489567,
          -1.6231444109658142,
          -2.723311471115569,
          2.8490588601641553,
          -1.292994187779477,
          1.545155002185525,
          -2.3513780402235844,
          0.6735727552345923,
          -0.15910281796226622,
          0.7002627886107025,
          1.3451408935786153,
          -2.7992262009663516,
          4.0017277439562235,
          3.165507142987283,
          -1.6719149542053042,
          2.1361999831620233,
          2.2212005376383708,
          -2.025166317627554,
          -1.3453407158976323,
          3.435422262573912,
          -1.6148391211063882,
          2.435371428400627,
          -2.7307871612164214,
          3.1481308703148203,
          3.0109200691778657,
          0.07064743593428924,
          0.4644246449567211,
          -0.2315031582738305,
          -1.0696952619969815,
          1.8789207808148962,
          4.160466562028201,
          -0.7226960251885615,
          1.3735564371552673,
          0.53547133289339,
          2.539951568900049,
          2.2781403847384443,
          0.8532204485179018,
          -0.19037281203824774,
          3.579307077280226,
          3.01874479451795,
          0.9876110686265749,
          -0.5859711678848094,
          -2.753400031380382,
          -2.1861777980425474,
          0.6925604678511807,
          2.99587768352641,
          1.8881391163985715,
          -1.7788394273007166,
          -2.776680615728013,
          2.024004366627965,
          0.6584001967626314,
          0.5330154914143121,
          -1.603519238768115,
          0.510583214369821,
          0.3118008397806302,
          3.9809860486309914,
          -2.231791098340582,
          -1.8290226224949997,
          4.123000365417594,
          2.57495277337714,
          0.9736300611179738,
          -1.257569818023745,
          1.6662082336063992,
          3.3175692236386727,
          0.3894211972482018,
          -1.448566398800223,
          3.25075473512125,
          1.0532065487808375,
          -2.4962481195286332,
          -2.73611593643987,
          -2.7605993187166806,
          -2.362539790593028,
          0.8787846321767883,
          3.5966619347244286,
          -1.290406949484023,
          2.489872277040127,
          1.7442342858977655,
          -2.5813054492157064,
          -0.973854746939236,
          -0.3753040453593339,
          -1.5662652272851658,
          2.8288406301129294,
          1.1424193158643083,
          -2.17045965629191,
          -2.2525783795292393,
          0.03720721130150473,
          -0.2903056202336902,
          2.764774146992754,
          -1.086140453880541,
          -0.6661427993289433,
          -1.1121407541027697,
          -2.1216364336769127,
          -0.22737395850683173,
          3.215368458214356,
          2.1505720100246855,
          1.4297575910464664,
          -0.5567747495150064,
          2.810455041276864,
          -2.1748853687656373,
          -0.9433493392647221
         ],
         "y": [
          -2.267845428186599,
          -2.0409585972655613,
          1.9827318495797819,
          2.200808699588489,
          -2.600698040730536,
          3.785694618080906,
          3.2661373159290834,
          2.046110464029466,
          1.7681376900423524,
          1.9367021435757428,
          0.11501035822894634,
          0.8931033477063135,
          2.4445207052790128,
          2.2671453732483817,
          1.8910002112745499,
          -1.1476587208260167,
          1.279607252036083,
          1.9347593390143532,
          3.5812009607972506,
          2.726274432307794,
          1.2878985195715877,
          0.8492336823127284,
          1.1732201393448207,
          -1.8416848674770134,
          -1.3710553860747223,
          -0.8605321946893678,
          3.0844179963519975,
          4.154410808902831,
          0.31684281385180046,
          -0.7700223440625846,
          2.919035875692753,
          2.295503601117293,
          0.20993608047968415,
          2.812388370105004,
          -1.972164575203652,
          0.8976220324652653,
          1.1103059835829074,
          3.309944230994546,
          -0.43906783697882545,
          -2.1119921489362756,
          3.457470570664409,
          1.4738059215880712,
          -0.9886059507281701,
          3.804061272111837,
          4.106836249781133,
          0.9872056619046807,
          1.0229895871537038,
          1.9878685713187272,
          2.7388492175547077,
          2.812069359125047,
          0.7349276902834063,
          1.908935783763992,
          0.07792752118980983,
          2.6297582073263097,
          1.230689341817059,
          0.6980099201636691,
          -0.8090066237098843,
          0.1835602553003053,
          4.0004933305793395,
          -1.6932067989437862,
          -2.6170954981042707,
          2.569068600997599,
          2.3241906558335446,
          3.0347808023315004,
          2.132332099718086,
          -0.7070164481468382,
          -0.06563229536158,
          2.738047444914696,
          -1.9571079535048164,
          -2.1555423891702015,
          1.4070912634845518,
          3.7424742601274694,
          3.766526602174105,
          1.4332941537783066,
          -0.5764372293502795,
          3.5220504688482626,
          0.8882790208249496,
          -2.567163486561757,
          0.5866719168956878,
          3.131329629748687,
          0.8965730228263062,
          2.4632592784312966,
          2.4246657769333817,
          0.6137341385696891,
          -0.9093351281735296,
          -0.7783350906623698,
          0.9742476956465209,
          2.491297028452191,
          0.3733037035192215,
          4.079788187921073,
          2.7529850286304223,
          1.8619477213197477,
          3.9322057543714752,
          -1.3958189210630998,
          3.9100877473715796,
          -1.5811779920283033,
          1.7204797256132451,
          1.942462347528564,
          2.345919019069223,
          3.2174716876814298
         ],
         "z": [
          10.948950287842246,
          9.351791773525783,
          11.138770834784294,
          18.657662081008418,
          8.266783039327816,
          20.878763856687733,
          18.577290075766058,
          7.148520998404657,
          4.900773214079708,
          8.087483359745539,
          4.22175232822126,
          9.861487216860152,
          28.538367013473724,
          18.88197819477557,
          8.05614928140445,
          7.019071910859984,
          9.255135457641664,
          9.54479885297668,
          18.02240280308917,
          25.950633870486318,
          5.745376031761441,
          10.387193700383568,
          10.841133053521691,
          15.133912322365077,
          13.808296075996973,
          0.8441657628892685,
          14.078002398249902,
          20.26131044665556,
          1.7571683159209164,
          7.530698795566627,
          31.699154565255196,
          10.406362967482874,
          4.29986551568417,
          11.26378193876446,
          12.396694973304538,
          9.109928655478027,
          5.091646929562233,
          14.031994173359722,
          17.746420154857745,
          14.79400621756696,
          16.84817280402489,
          4.936112333929501,
          10.00460076527139,
          20.592033689393993,
          22.372474756922536,
          14.314926385643723,
          7.96576136640664,
          9.625859771407491,
          18.14120735185893,
          17.495701417276806,
          3.6936246262881145,
          8.976798058508823,
          4.428969365315852,
          9.826845051186412,
          5.538549464548668,
          21.250332201681694,
          7.167515062980754,
          4.3628381311573206,
          41.53210952916691,
          10.260536941823057,
          9.684434566964455,
          10.608205008818306,
          12.045425480531298,
          27.979248077171775,
          6.820080641048728,
          2.747679736475577,
          15.048473105818944,
          12.70015764937175,
          10.911753314529054,
          14.174888013251413,
          9.691806425199768,
          21.57995274880876,
          18.936923618624828,
          20.499695263066403,
          3.5809379526801934,
          24.67284425829813,
          7.413083530756056,
          14.852778359077522,
          3.0607801357685456,
          12.47153992132891,
          4.2406717620435606,
          20.832387262640914,
          9.975771508342191,
          6.6631533805613,
          8.309779599753771,
          0.7749829817419986,
          1.7682584587935548,
          20.515095625887728,
          1.6405507255264753,
          19.813952816875847,
          10.823737210021546,
          9.375696286870545,
          17.702108108655825,
          13.98719142060624,
          25.402459657219918,
          6.542336412746617,
          6.230235347652718,
          17.14762005765803,
          11.624624748330021,
          12.881173981589356
         ]
        },
        {
         "type": "surface",
         "x": [
          -2.7992262009663516,
          -2.025927005078068,
          -1.2526278091897842,
          -0.47932861330150045,
          0.2939705825867831,
          1.0672697784750667,
          1.8405689743633507,
          2.6138681702516338,
          3.3871673661399178,
          4.160466562028201
         ],
         "y": [
          -2.6170954981042707,
          -1.864705908436815,
          -1.1123163187693592,
          -0.3599267291019035,
          0.39246286056555224,
          1.144852450233008,
          1.8972420399004637,
          2.64963162956792,
          3.402021219235375,
          4.154410808902831
         ],
         "z": [
          [
           19.311951249837875,
           -25.000851556658745,
           9.137556597590446,
           57.079256519675255,
           48.976030707359314,
           4.056678280234337,
           -18.82443529367447,
           -14.263173148036003,
           -124.58925904333591,
           -424.32491417229176
          ],
          [
           5.404119566082954,
           0.4690929651260376,
           21.767458856105804,
           43.81510140001774,
           40.34289616346359,
           19.499932050704956,
           5.388372138142586,
           12.968972012400627,
           11.070202857255936,
           86.61975142359734
          ],
          [
           6.171323150396347,
           2.762826904654503,
           5.367521420121193,
           7.333692640066147,
           6.5334702879190445,
           5.361911207437515,
           5.6416830867528915,
           12.379682257771492,
           16.394544005393982,
           96.98618097603321
          ],
          [
           10.573413521051407,
           5.994855985045433,
           2.759666532278061,
           -1.9477513134479523,
           -2.0102808326482773,
           2.807755723595619,
           7.501207411289215,
           13.674365147948265,
           15.803966671228409,
           52.03339622914791
          ],
          [
           10.240506798028946,
           5.250954374670982,
           2.9286253452301025,
           -0.693014919757843,
           -0.09956496953964233,
           3.6247103810310364,
           6.283095598220825,
           11.011703863739967,
           14.897648632526398,
           26.659386202692986
          ],
          [
           9.082904189825058,
           5.68165685236454,
           4.782839328050613,
           3.095997378230095,
           4.178153559565544,
           6.401897817850113,
           7.873988315463066,
           12.094376727938652,
           17.335413232445717,
           20.15335462987423
          ],
          [
           9.433252558112144,
           8.69701299071312,
           8.626678615808487,
           6.867339596152306,
           7.013749003410339,
           8.285619333386421,
           10.648561030626297,
           15.254092082381248,
           19.628108456730843,
           19.22334711253643
          ],
          [
           16.377486169338226,
           10.879037156701088,
           11.831227838993073,
           10.517085894942284,
           10.553534403443336,
           11.833343371748924,
           15.48013722896576,
           20.38879142701626,
           24.842482462525368,
           26.63442549109459
          ],
          [
           38.862497970461845,
           16.806454226374626,
           15.502420872449875,
           13.893643006682396,
           15.281724125146866,
           17.52071338891983,
           20.950848549604416,
           24.88711090385914,
           32.7565063983202,
           36.66223829984665
          ],
          [
           -30.516784250736237,
           8.37983813881874,
           24.50415436923504,
           20.915388002991676,
           21.840465486049652,
           27.030396670103073,
           33.95404861867428,
           43.35974694788456,
           62.37057487666607,
           43.70783242583275
          ]
         ]
        }
       ],
       "layout": {
        "legend": {
         "tracegroupgap": 0
        },
        "margin": {
         "t": 60
        },
        "scene": {
         "domain": {
          "x": [
           0,
           1
          ],
          "y": [
           0,
           1
          ]
         },
         "xaxis": {
          "title": {
           "text": "x"
          }
         },
         "yaxis": {
          "title": {
           "text": "y"
          }
         },
         "zaxis": {
          "range": [
           0,
           35
          ],
          "title": {
           "text": "z"
          }
         }
        },
        "template": {
         "data": {
          "bar": [
           {
            "error_x": {
             "color": "#2a3f5f"
            },
            "error_y": {
             "color": "#2a3f5f"
            },
            "marker": {
             "line": {
              "color": "#E5ECF6",
              "width": 0.5
             },
             "pattern": {
              "fillmode": "overlay",
              "size": 10,
              "solidity": 0.2
             }
            },
            "type": "bar"
           }
          ],
          "barpolar": [
           {
            "marker": {
             "line": {
              "color": "#E5ECF6",
              "width": 0.5
             },
             "pattern": {
              "fillmode": "overlay",
              "size": 10,
              "solidity": 0.2
             }
            },
            "type": "barpolar"
           }
          ],
          "carpet": [
           {
            "aaxis": {
             "endlinecolor": "#2a3f5f",
             "gridcolor": "white",
             "linecolor": "white",
             "minorgridcolor": "white",
             "startlinecolor": "#2a3f5f"
            },
            "baxis": {
             "endlinecolor": "#2a3f5f",
             "gridcolor": "white",
             "linecolor": "white",
             "minorgridcolor": "white",
             "startlinecolor": "#2a3f5f"
            },
            "type": "carpet"
           }
          ],
          "choropleth": [
           {
            "colorbar": {
             "outlinewidth": 0,
             "ticks": ""
            },
            "type": "choropleth"
           }
          ],
          "contour": [
           {
            "colorbar": {
             "outlinewidth": 0,
             "ticks": ""
            },
            "colorscale": [
             [
              0,
              "#0d0887"
             ],
             [
              0.1111111111111111,
              "#46039f"
             ],
             [
              0.2222222222222222,
              "#7201a8"
             ],
             [
              0.3333333333333333,
              "#9c179e"
             ],
             [
              0.4444444444444444,
              "#bd3786"
             ],
             [
              0.5555555555555556,
              "#d8576b"
             ],
             [
              0.6666666666666666,
              "#ed7953"
             ],
             [
              0.7777777777777778,
              "#fb9f3a"
             ],
             [
              0.8888888888888888,
              "#fdca26"
             ],
             [
              1,
              "#f0f921"
             ]
            ],
            "type": "contour"
           }
          ],
          "contourcarpet": [
           {
            "colorbar": {
             "outlinewidth": 0,
             "ticks": ""
            },
            "type": "contourcarpet"
           }
          ],
          "heatmap": [
           {
            "colorbar": {
             "outlinewidth": 0,
             "ticks": ""
            },
            "colorscale": [
             [
              0,
              "#0d0887"
             ],
             [
              0.1111111111111111,
              "#46039f"
             ],
             [
              0.2222222222222222,
              "#7201a8"
             ],
             [
              0.3333333333333333,
              "#9c179e"
             ],
             [
              0.4444444444444444,
              "#bd3786"
             ],
             [
              0.5555555555555556,
              "#d8576b"
             ],
             [
              0.6666666666666666,
              "#ed7953"
             ],
             [
              0.7777777777777778,
              "#fb9f3a"
             ],
             [
              0.8888888888888888,
              "#fdca26"
             ],
             [
              1,
              "#f0f921"
             ]
            ],
            "type": "heatmap"
           }
          ],
          "heatmapgl": [
           {
            "colorbar": {
             "outlinewidth": 0,
             "ticks": ""
            },
            "colorscale": [
             [
              0,
              "#0d0887"
             ],
             [
              0.1111111111111111,
              "#46039f"
             ],
             [
              0.2222222222222222,
              "#7201a8"
             ],
             [
              0.3333333333333333,
              "#9c179e"
             ],
             [
              0.4444444444444444,
              "#bd3786"
             ],
             [
              0.5555555555555556,
              "#d8576b"
             ],
             [
              0.6666666666666666,
              "#ed7953"
             ],
             [
              0.7777777777777778,
              "#fb9f3a"
             ],
             [
              0.8888888888888888,
              "#fdca26"
             ],
             [
              1,
              "#f0f921"
             ]
            ],
            "type": "heatmapgl"
           }
          ],
          "histogram": [
           {
            "marker": {
             "pattern": {
              "fillmode": "overlay",
              "size": 10,
              "solidity": 0.2
             }
            },
            "type": "histogram"
           }
          ],
          "histogram2d": [
           {
            "colorbar": {
             "outlinewidth": 0,
             "ticks": ""
            },
            "colorscale": [
             [
              0,
              "#0d0887"
             ],
             [
              0.1111111111111111,
              "#46039f"
             ],
             [
              0.2222222222222222,
              "#7201a8"
             ],
             [
              0.3333333333333333,
              "#9c179e"
             ],
             [
              0.4444444444444444,
              "#bd3786"
             ],
             [
              0.5555555555555556,
              "#d8576b"
             ],
             [
              0.6666666666666666,
              "#ed7953"
             ],
             [
              0.7777777777777778,
              "#fb9f3a"
             ],
             [
              0.8888888888888888,
              "#fdca26"
             ],
             [
              1,
              "#f0f921"
             ]
            ],
            "type": "histogram2d"
           }
          ],
          "histogram2dcontour": [
           {
            "colorbar": {
             "outlinewidth": 0,
             "ticks": ""
            },
            "colorscale": [
             [
              0,
              "#0d0887"
             ],
             [
              0.1111111111111111,
              "#46039f"
             ],
             [
              0.2222222222222222,
              "#7201a8"
             ],
             [
              0.3333333333333333,
              "#9c179e"
             ],
             [
              0.4444444444444444,
              "#bd3786"
             ],
             [
              0.5555555555555556,
              "#d8576b"
             ],
             [
              0.6666666666666666,
              "#ed7953"
             ],
             [
              0.7777777777777778,
              "#fb9f3a"
             ],
             [
              0.8888888888888888,
              "#fdca26"
             ],
             [
              1,
              "#f0f921"
             ]
            ],
            "type": "histogram2dcontour"
           }
          ],
          "mesh3d": [
           {
            "colorbar": {
             "outlinewidth": 0,
             "ticks": ""
            },
            "type": "mesh3d"
           }
          ],
          "parcoords": [
           {
            "line": {
             "colorbar": {
              "outlinewidth": 0,
              "ticks": ""
             }
            },
            "type": "parcoords"
           }
          ],
          "pie": [
           {
            "automargin": true,
            "type": "pie"
           }
          ],
          "scatter": [
           {
            "fillpattern": {
             "fillmode": "overlay",
             "size": 10,
             "solidity": 0.2
            },
            "type": "scatter"
           }
          ],
          "scatter3d": [
           {
            "line": {
             "colorbar": {
              "outlinewidth": 0,
              "ticks": ""
             }
            },
            "marker": {
             "colorbar": {
              "outlinewidth": 0,
              "ticks": ""
             }
            },
            "type": "scatter3d"
           }
          ],
          "scattercarpet": [
           {
            "marker": {
             "colorbar": {
              "outlinewidth": 0,
              "ticks": ""
             }
            },
            "type": "scattercarpet"
           }
          ],
          "scattergeo": [
           {
            "marker": {
             "colorbar": {
              "outlinewidth": 0,
              "ticks": ""
             }
            },
            "type": "scattergeo"
           }
          ],
          "scattergl": [
           {
            "marker": {
             "colorbar": {
              "outlinewidth": 0,
              "ticks": ""
             }
            },
            "type": "scattergl"
           }
          ],
          "scattermapbox": [
           {
            "marker": {
             "colorbar": {
              "outlinewidth": 0,
              "ticks": ""
             }
            },
            "type": "scattermapbox"
           }
          ],
          "scatterpolar": [
           {
            "marker": {
             "colorbar": {
              "outlinewidth": 0,
              "ticks": ""
             }
            },
            "type": "scatterpolar"
           }
          ],
          "scatterpolargl": [
           {
            "marker": {
             "colorbar": {
              "outlinewidth": 0,
              "ticks": ""
             }
            },
            "type": "scatterpolargl"
           }
          ],
          "scatterternary": [
           {
            "marker": {
             "colorbar": {
              "outlinewidth": 0,
              "ticks": ""
             }
            },
            "type": "scatterternary"
           }
          ],
          "surface": [
           {
            "colorbar": {
             "outlinewidth": 0,
             "ticks": ""
            },
            "colorscale": [
             [
              0,
              "#0d0887"
             ],
             [
              0.1111111111111111,
              "#46039f"
             ],
             [
              0.2222222222222222,
              "#7201a8"
             ],
             [
              0.3333333333333333,
              "#9c179e"
             ],
             [
              0.4444444444444444,
              "#bd3786"
             ],
             [
              0.5555555555555556,
              "#d8576b"
             ],
             [
              0.6666666666666666,
              "#ed7953"
             ],
             [
              0.7777777777777778,
              "#fb9f3a"
             ],
             [
              0.8888888888888888,
              "#fdca26"
             ],
             [
              1,
              "#f0f921"
             ]
            ],
            "type": "surface"
           }
          ],
          "table": [
           {
            "cells": {
             "fill": {
              "color": "#EBF0F8"
             },
             "line": {
              "color": "white"
             }
            },
            "header": {
             "fill": {
              "color": "#C8D4E3"
             },
             "line": {
              "color": "white"
             }
            },
            "type": "table"
           }
          ]
         },
         "layout": {
          "annotationdefaults": {
           "arrowcolor": "#2a3f5f",
           "arrowhead": 0,
           "arrowwidth": 1
          },
          "autotypenumbers": "strict",
          "coloraxis": {
           "colorbar": {
            "outlinewidth": 0,
            "ticks": ""
           }
          },
          "colorscale": {
           "diverging": [
            [
             0,
             "#8e0152"
            ],
            [
             0.1,
             "#c51b7d"
            ],
            [
             0.2,
             "#de77ae"
            ],
            [
             0.3,
             "#f1b6da"
            ],
            [
             0.4,
             "#fde0ef"
            ],
            [
             0.5,
             "#f7f7f7"
            ],
            [
             0.6,
             "#e6f5d0"
            ],
            [
             0.7,
             "#b8e186"
            ],
            [
             0.8,
             "#7fbc41"
            ],
            [
             0.9,
             "#4d9221"
            ],
            [
             1,
             "#276419"
            ]
           ],
           "sequential": [
            [
             0,
             "#0d0887"
            ],
            [
             0.1111111111111111,
             "#46039f"
            ],
            [
             0.2222222222222222,
             "#7201a8"
            ],
            [
             0.3333333333333333,
             "#9c179e"
            ],
            [
             0.4444444444444444,
             "#bd3786"
            ],
            [
             0.5555555555555556,
             "#d8576b"
            ],
            [
             0.6666666666666666,
             "#ed7953"
            ],
            [
             0.7777777777777778,
             "#fb9f3a"
            ],
            [
             0.8888888888888888,
             "#fdca26"
            ],
            [
             1,
             "#f0f921"
            ]
           ],
           "sequentialminus": [
            [
             0,
             "#0d0887"
            ],
            [
             0.1111111111111111,
             "#46039f"
            ],
            [
             0.2222222222222222,
             "#7201a8"
            ],
            [
             0.3333333333333333,
             "#9c179e"
            ],
            [
             0.4444444444444444,
             "#bd3786"
            ],
            [
             0.5555555555555556,
             "#d8576b"
            ],
            [
             0.6666666666666666,
             "#ed7953"
            ],
            [
             0.7777777777777778,
             "#fb9f3a"
            ],
            [
             0.8888888888888888,
             "#fdca26"
            ],
            [
             1,
             "#f0f921"
            ]
           ]
          },
          "colorway": [
           "#636efa",
           "#EF553B",
           "#00cc96",
           "#ab63fa",
           "#FFA15A",
           "#19d3f3",
           "#FF6692",
           "#B6E880",
           "#FF97FF",
           "#FECB52"
          ],
          "font": {
           "color": "#2a3f5f"
          },
          "geo": {
           "bgcolor": "white",
           "lakecolor": "white",
           "landcolor": "#E5ECF6",
           "showlakes": true,
           "showland": true,
           "subunitcolor": "white"
          },
          "hoverlabel": {
           "align": "left"
          },
          "hovermode": "closest",
          "mapbox": {
           "style": "light"
          },
          "paper_bgcolor": "white",
          "plot_bgcolor": "#E5ECF6",
          "polar": {
           "angularaxis": {
            "gridcolor": "white",
            "linecolor": "white",
            "ticks": ""
           },
           "bgcolor": "#E5ECF6",
           "radialaxis": {
            "gridcolor": "white",
            "linecolor": "white",
            "ticks": ""
           }
          },
          "scene": {
           "xaxis": {
            "backgroundcolor": "#E5ECF6",
            "gridcolor": "white",
            "gridwidth": 2,
            "linecolor": "white",
            "showbackground": true,
            "ticks": "",
            "zerolinecolor": "white"
           },
           "yaxis": {
            "backgroundcolor": "#E5ECF6",
            "gridcolor": "white",
            "gridwidth": 2,
            "linecolor": "white",
            "showbackground": true,
            "ticks": "",
            "zerolinecolor": "white"
           },
           "zaxis": {
            "backgroundcolor": "#E5ECF6",
            "gridcolor": "white",
            "gridwidth": 2,
            "linecolor": "white",
            "showbackground": true,
            "ticks": "",
            "zerolinecolor": "white"
           }
          },
          "shapedefaults": {
           "line": {
            "color": "#2a3f5f"
           }
          },
          "ternary": {
           "aaxis": {
            "gridcolor": "white",
            "linecolor": "white",
            "ticks": ""
           },
           "baxis": {
            "gridcolor": "white",
            "linecolor": "white",
            "ticks": ""
           },
           "bgcolor": "#E5ECF6",
           "caxis": {
            "gridcolor": "white",
            "linecolor": "white",
            "ticks": ""
           }
          },
          "title": {
           "x": 0.05
          },
          "xaxis": {
           "automargin": true,
           "gridcolor": "white",
           "linecolor": "white",
           "ticks": "",
           "title": {
            "standoff": 15
           },
           "zerolinecolor": "white",
           "zerolinewidth": 2
          },
          "yaxis": {
           "automargin": true,
           "gridcolor": "white",
           "linecolor": "white",
           "ticks": "",
           "title": {
            "standoff": 15
           },
           "zerolinecolor": "white",
           "zerolinewidth": 2
          }
         }
        }
       }
      }
     },
     "metadata": {},
     "output_type": "display_data"
    }
   ],
   "source": [
    "plot_polynomial_graph(10)"
   ]
  },
  {
   "cell_type": "code",
   "execution_count": 40,
   "metadata": {},
   "outputs": [
    {
     "data": {
      "application/vnd.plotly.v1+json": {
       "config": {
        "plotlyServerURL": "https://plot.ly"
       },
       "data": [
        {
         "hovertemplate": "x=%{x}<br>y=%{y}<br>z=%{z}<extra></extra>",
         "legendgroup": "",
         "marker": {
          "color": "#636efa",
          "symbol": "circle"
         },
         "mode": "markers",
         "name": "",
         "scene": "scene",
         "showlegend": false,
         "type": "scatter3d",
         "x": [
          -2.4593657100346213,
          0.6068470410434039,
          -2.4642794363022666,
          2.2965489502958905,
          -1.082539277500507,
          2.157962314487027,
          3.3590139213090175,
          3.8821124042894173,
          -1.5059162320057244,
          3.436539896974332,
          -2.394850012323051,
          2.5816450740260164,
          -1.2607427496974792,
          -1.2044091505264847,
          1.2336405531835046,
          -0.49473394121309555,
          -1.2360386145515199,
          3.283146502995592,
          1.51938347378176,
          3.0622608253523014,
          2.313034826726443,
          0.5730152510257813,
          1.5797318089579395,
          2.666692503382092,
          2.335771070341922,
          1.6684235156637124,
          2.0208896486921413,
          3.2172276994775872,
          1.7182216153382477,
          -1.0623476302640127,
          1.3889154914135693,
          -2.036041112406419,
          -2.504288777975966,
          0.24055650680592766,
          -2.3329083673044115,
          1.2339915426093757,
          1.2696438203987634,
          2.7432121288404483,
          3.343965336049216,
          0.5539708943459267,
          -0.262575125825411,
          1.9791910146617573,
          -1.1405319923117918,
          2.691414616375501,
          1.4419607641657723,
          2.627186101365438,
          -1.638360306976687,
          3.8202079118838155,
          2.6466092113806328,
          3.2023801298038244,
          -2.6063276691911366,
          -2.0685395671668543,
          -0.40693601157392356,
          3.6825619408856554,
          2.05378012679114,
          -1.6411742464611931,
          -1.599342781953327,
          0.3302290409233466,
          3.4607251036373725,
          0.10394676422038529,
          3.114212893002825,
          4.101730840101066,
          0.5501190919905277,
          2.556001875849957,
          3.6105306003566087,
          0.07120183967131855,
          3.3435635555201566,
          -0.3984002933866613,
          -0.7608770597075805,
          -0.0761854935281705,
          -2.2285019152466843,
          -0.3029589822954839,
          3.9440258777992057,
          3.0611076880259773,
          -0.06026681600998929,
          -2.404938586412041,
          3.662927224771056,
          0.6682614294472708,
          -0.1303223018641848,
          1.8017901972574375,
          4.071949863664047,
          0.23888502271747436,
          -2.556011267678788,
          0.5311988729531816,
          3.4651920877978375,
          3.531052404826366,
          2.517201575629424,
          -1.7776098502554656,
          -0.11341357986016654,
          -1.1503713138882685,
          -1.0296501265903237,
          2.0387835754190835,
          -1.1048514075093128,
          1.1044526369165824,
          -2.333665635244918,
          -0.7249157237385604,
          0.9603633045157545,
          1.364594874228847,
          1.7486785238566567,
          1.823320031215852
         ],
         "y": [
          1.1849702759367053,
          2.9639927074650094,
          0.7166425224359587,
          3.06613620779921,
          0.6323103197031616,
          2.0234279244105524,
          2.058450169225269,
          0.5949832891151998,
          -1.9211726093494623,
          -0.05160682309238407,
          0.5315921577465761,
          2.3735947431827347,
          -1.202848740987672,
          -0.3888089158434802,
          0.4523933428799527,
          2.131726788726752,
          2.493913658826158,
          -0.7748465948592824,
          -0.5748209364430941,
          -1.0491660794457793,
          -1.8864672887453124,
          1.6807201166035082,
          3.6929787418306814,
          0.7254316733475901,
          -0.2077903281934299,
          -1.698188364236218,
          -2.0718384190437873,
          -2.357404937993915,
          3.3241712199751925,
          0.153770077003482,
          0.3431666153565085,
          -0.465991420208963,
          0.6895951041924397,
          -1.3896643986096673,
          -2.5168559408984477,
          0.25634345709395534,
          2.5093056277830623,
          2.681856032354472,
          -1.3995982975199932,
          2.430842633534664,
          4.128875168558932,
          1.9536256834415937,
          -0.8944747854691675,
          -2.1216253242377734,
          2.835782841624937,
          0.16453092837732264,
          1.202440176482864,
          -1.3460182199864925,
          -0.03805678144463309,
          1.9717474643108872,
          0.392077910429137,
          -2.637519232681131,
          -0.2646341525849887,
          -0.384951572138196,
          4.109927605233911,
          1.642996256744932,
          1.2170810594319645,
          1.88629765381671,
          2.208806663875869,
          -1.65739627452195,
          0.3354364675354242,
          -0.32778890162666263,
          1.0922119955321459,
          -0.9173840431513436,
          -1.8854582526714239,
          1.6433288523505558,
          3.0601537739098754,
          1.0886223238919857,
          4.110590712620588,
          -2.3544857413639764,
          0.910849521066444,
          0.10567427409672137,
          0.28377853344926063,
          0.5829323994655788,
          -1.4927539879670682,
          1.6126387723028248,
          1.496722413565708,
          -0.5013506373057961,
          -2.155513449950267,
          4.0708453417212995,
          0.8841372757457138,
          2.70026827418061,
          3.1622774813826817,
          -2.1958996602896885,
          2.488128433018602,
          0.8319780005330237,
          2.3456165745411344,
          -0.17095520242975937,
          -0.2805553104243672,
          -0.7209214866764273,
          0.10189806578563765,
          -2.4960765840308015,
          -2.2088688807231054,
          -1.6616294426829563,
          -0.21450557872196852,
          3.5740713225115917,
          -2.2161100883949354,
          1.4335505913214863,
          -0.8946107730206698,
          2.7018155906400114
         ],
         "z": [
          7.797973798790561,
          12.33920551260018,
          7.938637989161446,
          23.168694042597913,
          3.5613674642216724,
          15.17577182338331,
          20.87840587819411,
          18.12916318453516,
          7.498131478268022,
          15.249316754057443,
          6.693790605158133,
          18.065398321320277,
          2.9867771915125685,
          2.8743821542800285,
          3.2330286106700195,
          6.129132767672538,
          10.024486913998823,
          12.72040730688235,
          5.335016601557048,
          13.9704984757811,
          9.667568050827144,
          7.270612130263978,
          19.40149530313488,
          12.176198184679178,
          9.059471432110826,
          6.0040573462673015,
          8.866857031626871,
          16.389095137944306,
          19.352718847856273,
          3.1845941006507252,
          4.8348386797045295,
          4.976100719223729,
          8.37214604114779,
          3.8127271876892204,
          14.00576415016416,
          3.0195180393115857,
          11.899201441353831,
          20.379827735511856,
          14.766259087109491,
          10.806262606535158,
          21.104304019267683,
          11.987856306696091,
          3.7354949977147323,
          11.755932187794652,
          15.015403938198405,
          10.406836381600124,
          5.162219303785652,
          17.37615137683242,
          9.435248795569194,
          19.604091530331853,
          8.163283817677412,
          11.387378855864554,
          3.6824969002445753,
          17.4476483814041,
          27.697083515037214,
          8.099775404608264,
          5.160449287481944,
          6.185057412730624,
          23.06573709580082,
          3.0157693163501813,
          12.737980100441876,
          21.91262688951526,
          5.100237167923786,
          8.662695989876152,
          18.105429689717376,
          4.697893514389066,
          24.062593172958156,
          4.2889501983654945,
          18.408262325725367,
          6.759376871189434,
          6.51116590820508,
          4.4984480786775904,
          21.114081592055772,
          15.161073550443232,
          2.9353366817633875,
          8.637459203724369,
          22.337507070515795,
          1.812155243864228,
          5.331832580071294,
          25.392378277680194,
          22.90547410347435,
          10.172378441741685,
          18.34855326911601,
          4.715769238108825,
          24.27319040171763,
          18.51132020172538,
          17.309378466932632,
          4.070195852775211,
          0.9568611388311318,
          3.7832645837265724,
          1.9012804997036643,
          11.771004469681426,
          5.236837929468848,
          5.31777796067421,
          7.169105498634778,
          16.880295185830207,
          8.248484576723893,
          8.513624773096783,
          6.457127788391835,
          14.137744285055247
         ]
        },
        {
         "type": "surface",
         "x": [
          -2.6063276691911366,
          -1.8609878348253361,
          -1.115648000459536,
          -0.37030816609373574,
          0.3750316682720647,
          1.1203715026378651,
          1.865711337003665,
          2.611051171369466,
          3.356391005735266,
          4.101730840101066
         ],
         "y": [
          -2.637519232681131,
          -1.885697632543346,
          -1.1338760324055612,
          -0.38205443226777636,
          0.3697671678700085,
          1.1215887680077934,
          1.8734103681455783,
          2.6252319682833636,
          3.377053568421148,
          4.128875168558932
         ],
         "z": [
          [
           67464.60007985095,
           8663.27164762286,
           -1706.2302270910832,
           -2177.1724662163515,
           2760.447309723503,
           5635.754081956581,
           2215.203229716558,
           -17866.61584388656,
           -36244.93542518018,
           -157356.39216130011
          ],
          [
           191487.19300273585,
           727.4353766959211,
           13.539625943238176,
           -13.191454867700402,
           -29.143671841568022,
           -80.76847168565459,
           -34.7091858704828,
           -95.0748416858469,
           384.51091588039066,
           -67859.39470622844
          ],
          [
           88468.23647044053,
           1173.7207790660764,
           -1.6701451468462185,
           1.3131575802793982,
           5.661203651315777,
           42.10022531760269,
           18.559679595489314,
           -10.991694711242447,
           247.83807782462915,
           -3828.690587227865
          ],
          [
           13603.815363012784,
           -77.78226242887516,
           1.3130952071305,
           3.159909437390497,
           -1.9545536260011325,
           6.8049955107428906,
           -6.853623640732197,
           11.558620161974401,
           -123.30527680639992,
           220.30040219176678
          ],
          [
           22.10867884367778,
           348.4867825660901,
           7.643580815019851,
           6.022158578688143,
           0.5069058606470476,
           2.0476381999542284,
           15.892266486639896,
           11.555106426902936,
           119.55931901973324,
           -1381.9458549340989
          ],
          [
           2839.6447612171805,
           -22.50069210196014,
           -16.02692758925634,
           4.38694152322349,
           6.397623520093839,
           6.3003997432338394,
           30.221428424874233,
           16.711249767865382,
           -48.690112063987755,
           2673.878763010908
          ],
          [
           19062.198151546334,
           -145.02445618660298,
           14.237245367000211,
           -10.37004922761608,
           7.674914097592561,
           -23.096843191861836,
           10.824573809012206,
           -18.365379339861676,
           -4.257009009764291,
           16216.181897925511
          ],
          [
           5027.093237435861,
           1508.9997991542996,
           -535.4921015062491,
           238.06907971640155,
           -35.3010091627539,
           57.921170827777104,
           1.4459772287309232,
           50.926808641707765,
           219.19601469307324,
           3151.801484505014
          ],
          [
           158675.34372546675,
           76463.47060622818,
           -7738.050436880315,
           5966.293592439216,
           3743.415581663351,
           -470.0253243180842,
           259.27187752194817,
           -3363.8098178158316,
           -4540.17547225736,
           31775.314352346883
          ],
          [
           7725182.52437459,
           2079374.1646871928,
           143748.47780783643,
           -4750.7660646423965,
           -256.0832793129876,
           -20115.966208066027,
           -1261.64352618873,
           -55669.871976652816,
           -207826.369769016,
           406294.38938936434
          ]
         ]
        }
       ],
       "layout": {
        "legend": {
         "tracegroupgap": 0
        },
        "margin": {
         "t": 60
        },
        "scene": {
         "domain": {
          "x": [
           0,
           1
          ],
          "y": [
           0,
           1
          ]
         },
         "xaxis": {
          "title": {
           "text": "x"
          }
         },
         "yaxis": {
          "title": {
           "text": "y"
          }
         },
         "zaxis": {
          "range": [
           0,
           35
          ],
          "title": {
           "text": "z"
          }
         }
        },
        "template": {
         "data": {
          "bar": [
           {
            "error_x": {
             "color": "#2a3f5f"
            },
            "error_y": {
             "color": "#2a3f5f"
            },
            "marker": {
             "line": {
              "color": "#E5ECF6",
              "width": 0.5
             },
             "pattern": {
              "fillmode": "overlay",
              "size": 10,
              "solidity": 0.2
             }
            },
            "type": "bar"
           }
          ],
          "barpolar": [
           {
            "marker": {
             "line": {
              "color": "#E5ECF6",
              "width": 0.5
             },
             "pattern": {
              "fillmode": "overlay",
              "size": 10,
              "solidity": 0.2
             }
            },
            "type": "barpolar"
           }
          ],
          "carpet": [
           {
            "aaxis": {
             "endlinecolor": "#2a3f5f",
             "gridcolor": "white",
             "linecolor": "white",
             "minorgridcolor": "white",
             "startlinecolor": "#2a3f5f"
            },
            "baxis": {
             "endlinecolor": "#2a3f5f",
             "gridcolor": "white",
             "linecolor": "white",
             "minorgridcolor": "white",
             "startlinecolor": "#2a3f5f"
            },
            "type": "carpet"
           }
          ],
          "choropleth": [
           {
            "colorbar": {
             "outlinewidth": 0,
             "ticks": ""
            },
            "type": "choropleth"
           }
          ],
          "contour": [
           {
            "colorbar": {
             "outlinewidth": 0,
             "ticks": ""
            },
            "colorscale": [
             [
              0,
              "#0d0887"
             ],
             [
              0.1111111111111111,
              "#46039f"
             ],
             [
              0.2222222222222222,
              "#7201a8"
             ],
             [
              0.3333333333333333,
              "#9c179e"
             ],
             [
              0.4444444444444444,
              "#bd3786"
             ],
             [
              0.5555555555555556,
              "#d8576b"
             ],
             [
              0.6666666666666666,
              "#ed7953"
             ],
             [
              0.7777777777777778,
              "#fb9f3a"
             ],
             [
              0.8888888888888888,
              "#fdca26"
             ],
             [
              1,
              "#f0f921"
             ]
            ],
            "type": "contour"
           }
          ],
          "contourcarpet": [
           {
            "colorbar": {
             "outlinewidth": 0,
             "ticks": ""
            },
            "type": "contourcarpet"
           }
          ],
          "heatmap": [
           {
            "colorbar": {
             "outlinewidth": 0,
             "ticks": ""
            },
            "colorscale": [
             [
              0,
              "#0d0887"
             ],
             [
              0.1111111111111111,
              "#46039f"
             ],
             [
              0.2222222222222222,
              "#7201a8"
             ],
             [
              0.3333333333333333,
              "#9c179e"
             ],
             [
              0.4444444444444444,
              "#bd3786"
             ],
             [
              0.5555555555555556,
              "#d8576b"
             ],
             [
              0.6666666666666666,
              "#ed7953"
             ],
             [
              0.7777777777777778,
              "#fb9f3a"
             ],
             [
              0.8888888888888888,
              "#fdca26"
             ],
             [
              1,
              "#f0f921"
             ]
            ],
            "type": "heatmap"
           }
          ],
          "heatmapgl": [
           {
            "colorbar": {
             "outlinewidth": 0,
             "ticks": ""
            },
            "colorscale": [
             [
              0,
              "#0d0887"
             ],
             [
              0.1111111111111111,
              "#46039f"
             ],
             [
              0.2222222222222222,
              "#7201a8"
             ],
             [
              0.3333333333333333,
              "#9c179e"
             ],
             [
              0.4444444444444444,
              "#bd3786"
             ],
             [
              0.5555555555555556,
              "#d8576b"
             ],
             [
              0.6666666666666666,
              "#ed7953"
             ],
             [
              0.7777777777777778,
              "#fb9f3a"
             ],
             [
              0.8888888888888888,
              "#fdca26"
             ],
             [
              1,
              "#f0f921"
             ]
            ],
            "type": "heatmapgl"
           }
          ],
          "histogram": [
           {
            "marker": {
             "pattern": {
              "fillmode": "overlay",
              "size": 10,
              "solidity": 0.2
             }
            },
            "type": "histogram"
           }
          ],
          "histogram2d": [
           {
            "colorbar": {
             "outlinewidth": 0,
             "ticks": ""
            },
            "colorscale": [
             [
              0,
              "#0d0887"
             ],
             [
              0.1111111111111111,
              "#46039f"
             ],
             [
              0.2222222222222222,
              "#7201a8"
             ],
             [
              0.3333333333333333,
              "#9c179e"
             ],
             [
              0.4444444444444444,
              "#bd3786"
             ],
             [
              0.5555555555555556,
              "#d8576b"
             ],
             [
              0.6666666666666666,
              "#ed7953"
             ],
             [
              0.7777777777777778,
              "#fb9f3a"
             ],
             [
              0.8888888888888888,
              "#fdca26"
             ],
             [
              1,
              "#f0f921"
             ]
            ],
            "type": "histogram2d"
           }
          ],
          "histogram2dcontour": [
           {
            "colorbar": {
             "outlinewidth": 0,
             "ticks": ""
            },
            "colorscale": [
             [
              0,
              "#0d0887"
             ],
             [
              0.1111111111111111,
              "#46039f"
             ],
             [
              0.2222222222222222,
              "#7201a8"
             ],
             [
              0.3333333333333333,
              "#9c179e"
             ],
             [
              0.4444444444444444,
              "#bd3786"
             ],
             [
              0.5555555555555556,
              "#d8576b"
             ],
             [
              0.6666666666666666,
              "#ed7953"
             ],
             [
              0.7777777777777778,
              "#fb9f3a"
             ],
             [
              0.8888888888888888,
              "#fdca26"
             ],
             [
              1,
              "#f0f921"
             ]
            ],
            "type": "histogram2dcontour"
           }
          ],
          "mesh3d": [
           {
            "colorbar": {
             "outlinewidth": 0,
             "ticks": ""
            },
            "type": "mesh3d"
           }
          ],
          "parcoords": [
           {
            "line": {
             "colorbar": {
              "outlinewidth": 0,
              "ticks": ""
             }
            },
            "type": "parcoords"
           }
          ],
          "pie": [
           {
            "automargin": true,
            "type": "pie"
           }
          ],
          "scatter": [
           {
            "fillpattern": {
             "fillmode": "overlay",
             "size": 10,
             "solidity": 0.2
            },
            "type": "scatter"
           }
          ],
          "scatter3d": [
           {
            "line": {
             "colorbar": {
              "outlinewidth": 0,
              "ticks": ""
             }
            },
            "marker": {
             "colorbar": {
              "outlinewidth": 0,
              "ticks": ""
             }
            },
            "type": "scatter3d"
           }
          ],
          "scattercarpet": [
           {
            "marker": {
             "colorbar": {
              "outlinewidth": 0,
              "ticks": ""
             }
            },
            "type": "scattercarpet"
           }
          ],
          "scattergeo": [
           {
            "marker": {
             "colorbar": {
              "outlinewidth": 0,
              "ticks": ""
             }
            },
            "type": "scattergeo"
           }
          ],
          "scattergl": [
           {
            "marker": {
             "colorbar": {
              "outlinewidth": 0,
              "ticks": ""
             }
            },
            "type": "scattergl"
           }
          ],
          "scattermapbox": [
           {
            "marker": {
             "colorbar": {
              "outlinewidth": 0,
              "ticks": ""
             }
            },
            "type": "scattermapbox"
           }
          ],
          "scatterpolar": [
           {
            "marker": {
             "colorbar": {
              "outlinewidth": 0,
              "ticks": ""
             }
            },
            "type": "scatterpolar"
           }
          ],
          "scatterpolargl": [
           {
            "marker": {
             "colorbar": {
              "outlinewidth": 0,
              "ticks": ""
             }
            },
            "type": "scatterpolargl"
           }
          ],
          "scatterternary": [
           {
            "marker": {
             "colorbar": {
              "outlinewidth": 0,
              "ticks": ""
             }
            },
            "type": "scatterternary"
           }
          ],
          "surface": [
           {
            "colorbar": {
             "outlinewidth": 0,
             "ticks": ""
            },
            "colorscale": [
             [
              0,
              "#0d0887"
             ],
             [
              0.1111111111111111,
              "#46039f"
             ],
             [
              0.2222222222222222,
              "#7201a8"
             ],
             [
              0.3333333333333333,
              "#9c179e"
             ],
             [
              0.4444444444444444,
              "#bd3786"
             ],
             [
              0.5555555555555556,
              "#d8576b"
             ],
             [
              0.6666666666666666,
              "#ed7953"
             ],
             [
              0.7777777777777778,
              "#fb9f3a"
             ],
             [
              0.8888888888888888,
              "#fdca26"
             ],
             [
              1,
              "#f0f921"
             ]
            ],
            "type": "surface"
           }
          ],
          "table": [
           {
            "cells": {
             "fill": {
              "color": "#EBF0F8"
             },
             "line": {
              "color": "white"
             }
            },
            "header": {
             "fill": {
              "color": "#C8D4E3"
             },
             "line": {
              "color": "white"
             }
            },
            "type": "table"
           }
          ]
         },
         "layout": {
          "annotationdefaults": {
           "arrowcolor": "#2a3f5f",
           "arrowhead": 0,
           "arrowwidth": 1
          },
          "autotypenumbers": "strict",
          "coloraxis": {
           "colorbar": {
            "outlinewidth": 0,
            "ticks": ""
           }
          },
          "colorscale": {
           "diverging": [
            [
             0,
             "#8e0152"
            ],
            [
             0.1,
             "#c51b7d"
            ],
            [
             0.2,
             "#de77ae"
            ],
            [
             0.3,
             "#f1b6da"
            ],
            [
             0.4,
             "#fde0ef"
            ],
            [
             0.5,
             "#f7f7f7"
            ],
            [
             0.6,
             "#e6f5d0"
            ],
            [
             0.7,
             "#b8e186"
            ],
            [
             0.8,
             "#7fbc41"
            ],
            [
             0.9,
             "#4d9221"
            ],
            [
             1,
             "#276419"
            ]
           ],
           "sequential": [
            [
             0,
             "#0d0887"
            ],
            [
             0.1111111111111111,
             "#46039f"
            ],
            [
             0.2222222222222222,
             "#7201a8"
            ],
            [
             0.3333333333333333,
             "#9c179e"
            ],
            [
             0.4444444444444444,
             "#bd3786"
            ],
            [
             0.5555555555555556,
             "#d8576b"
            ],
            [
             0.6666666666666666,
             "#ed7953"
            ],
            [
             0.7777777777777778,
             "#fb9f3a"
            ],
            [
             0.8888888888888888,
             "#fdca26"
            ],
            [
             1,
             "#f0f921"
            ]
           ],
           "sequentialminus": [
            [
             0,
             "#0d0887"
            ],
            [
             0.1111111111111111,
             "#46039f"
            ],
            [
             0.2222222222222222,
             "#7201a8"
            ],
            [
             0.3333333333333333,
             "#9c179e"
            ],
            [
             0.4444444444444444,
             "#bd3786"
            ],
            [
             0.5555555555555556,
             "#d8576b"
            ],
            [
             0.6666666666666666,
             "#ed7953"
            ],
            [
             0.7777777777777778,
             "#fb9f3a"
            ],
            [
             0.8888888888888888,
             "#fdca26"
            ],
            [
             1,
             "#f0f921"
            ]
           ]
          },
          "colorway": [
           "#636efa",
           "#EF553B",
           "#00cc96",
           "#ab63fa",
           "#FFA15A",
           "#19d3f3",
           "#FF6692",
           "#B6E880",
           "#FF97FF",
           "#FECB52"
          ],
          "font": {
           "color": "#2a3f5f"
          },
          "geo": {
           "bgcolor": "white",
           "lakecolor": "white",
           "landcolor": "#E5ECF6",
           "showlakes": true,
           "showland": true,
           "subunitcolor": "white"
          },
          "hoverlabel": {
           "align": "left"
          },
          "hovermode": "closest",
          "mapbox": {
           "style": "light"
          },
          "paper_bgcolor": "white",
          "plot_bgcolor": "#E5ECF6",
          "polar": {
           "angularaxis": {
            "gridcolor": "white",
            "linecolor": "white",
            "ticks": ""
           },
           "bgcolor": "#E5ECF6",
           "radialaxis": {
            "gridcolor": "white",
            "linecolor": "white",
            "ticks": ""
           }
          },
          "scene": {
           "xaxis": {
            "backgroundcolor": "#E5ECF6",
            "gridcolor": "white",
            "gridwidth": 2,
            "linecolor": "white",
            "showbackground": true,
            "ticks": "",
            "zerolinecolor": "white"
           },
           "yaxis": {
            "backgroundcolor": "#E5ECF6",
            "gridcolor": "white",
            "gridwidth": 2,
            "linecolor": "white",
            "showbackground": true,
            "ticks": "",
            "zerolinecolor": "white"
           },
           "zaxis": {
            "backgroundcolor": "#E5ECF6",
            "gridcolor": "white",
            "gridwidth": 2,
            "linecolor": "white",
            "showbackground": true,
            "ticks": "",
            "zerolinecolor": "white"
           }
          },
          "shapedefaults": {
           "line": {
            "color": "#2a3f5f"
           }
          },
          "ternary": {
           "aaxis": {
            "gridcolor": "white",
            "linecolor": "white",
            "ticks": ""
           },
           "baxis": {
            "gridcolor": "white",
            "linecolor": "white",
            "ticks": ""
           },
           "bgcolor": "#E5ECF6",
           "caxis": {
            "gridcolor": "white",
            "linecolor": "white",
            "ticks": ""
           }
          },
          "title": {
           "x": 0.05
          },
          "xaxis": {
           "automargin": true,
           "gridcolor": "white",
           "linecolor": "white",
           "ticks": "",
           "title": {
            "standoff": 15
           },
           "zerolinecolor": "white",
           "zerolinewidth": 2
          },
          "yaxis": {
           "automargin": true,
           "gridcolor": "white",
           "linecolor": "white",
           "ticks": "",
           "title": {
            "standoff": 15
           },
           "zerolinecolor": "white",
           "zerolinewidth": 2
          }
         }
        }
       }
      }
     },
     "metadata": {},
     "output_type": "display_data"
    }
   ],
   "source": [
    "plot_polynomial_graph(15)"
   ]
  },
  {
   "cell_type": "markdown",
   "metadata": {},
   "source": [
    "As mentioned above, the choice of the polynomial degree (n) is a crucial aspect of polynomial regression that determines the flexibility of the model.\n",
    "\n",
    "And higher degrees may lead to overfitting, as you can seen with the help of these plots.\n",
    "\n",
    "Now, let's understand some important topics.\n"
   ]
  },
  {
   "cell_type": "markdown",
   "metadata": {},
   "source": [
    "#### Ques. Why Is Polynomial Regression also known as Polynomial Linear Regression?\n",
    "\n",
    "-- In polynomial regression, we aim to find the relationship between coefficients (including, intercept) and the target (y) because we already have X values. So, the equation is polynomial, but the degree of coefficients are linear i.e. 1. Hence, Polynomial Regression is also known as Polynomial Linear Regression."
   ]
  },
  {
   "cell_type": "markdown",
   "metadata": {},
   "source": [
    "#### Bias - Variance Tradeoff\n",
    "\n",
    "It refers to the balance between two types of errors, namely bias and variance, when developing predictive models.\n",
    "\n",
    "Here's a concise explanation:\n",
    "\n",
    "Bias: It measures how far off the predictions of a model are from the true values. It indicates the model's tendency to consistently under- or overestimate the actual outcomes.\n",
    "\n",
    "- Low Bias: A model with low bias is flexible and can closely fit the training data.\n",
    "- High Bias: A model with high bias may oversimplify the underlying patterns, leading to systematic errors.\n",
    "\n",
    "Variance: It measures the amount by which the performance of a predictive model alters when it is trained on various subsets of the training data. Variance is the model’s variability by sensitivity to small fluctuations in another subset of the training dataset.\n",
    "\n",
    "- Low Variance: A model with low variance generalizes well to new, unseen data.\n",
    "- High Variance: A model with high variance may capture noise in the training data and fail to generalize to new data.\n",
    "\n",
    "Tradeoff: A trade-off exists between an ML model’s ability to minimise bias and variance. It is known as the best solution for choosing a value of regularisation constant.\n",
    "\n",
    "Achieving a good balance is crucial for developing models that perform well on both the training data and new, unseen data helps avoid underfitting or overfitting the dataset.\n",
    "\n",
    "#### Overfitting and Underfitting:\n",
    "\n",
    "-- Underfitting (High Bias, Low Variance): The model is too simple and fails to capture the underlying patterns, performing poorly on both training and new data.\n",
    "\n",
    "-- Overfitting (High Variance, Low Bias): The model fits the training data too closely, capturing noise and performing poorly on new data. \n",
    "\n",
    "\n",
    "#### Optimal Tradeoff:\n",
    "\n",
    "The goal is to find the optimal tradeoff that minimizes both bias and variance, leading to a model that generalizes well to new, unseen data.\n",
    "\n",
    "In practice, techniques like cross-validation, regularization, and ensemble methods(bagging and boosting) are employed to create an appropriate balance between bias and variance, ultimately improving the model's predictive performance on diverse datasets.\n",
    "##### Advantages of using Polynomial Regression\n",
    "\n",
    "- Captures Non-linear Relationships: Polynomial regression can model complex, non-linear relationships between independent and dependent variables. This is especially useful when the relationship is not adequately captured by a simple linear model.\n",
    "\n",
    "- Flexible: It allows for greater flexibility in fits a wide range of curvatures to the data, accommodating patterns that might be missed by simpler models.\n",
    "\n",
    "- Useful for Small Datasets: Polynomial regression can be effective when dealing with smaller datasets where the underlying patterns might not be apparent in a linear model.\n",
    "\n",
    "#### Disadvantages of using Polynomial Regression\n",
    "\n",
    "- Overfitting: One of the main challenges is the risk of overfitting, especially as the degree of the polynomial increases. Higher-degree polynomials may fit the training data perfectly but perform poorly on new, unseen data.\n",
    "\n",
    "- Increased Complexity: Higher-degree polynomials introduce more parameters to the model, making it more complex. This complexity can lead to difficulties in interpretation and increased computation requirements.\n",
    "\n",
    "- Sensitivity to Outliers: Polynomial regression can be sensitive to outliers, as the model tries to fit the curve through all data points. Outliers can disproportionately influence the fit.\n",
    "\n",
    "- Limited Extrapolation: Extrapolating beyond the range of the training data may lead to unreliable predictions. The model might produce inaccurate results when applied to values outside the range of the observed data.\n",
    "\n",
    "- Selection of the Polynomial Degree: Choosing the right degree for the polynomial can be challenging. Too low a degree may not capture the complexity of the underlying relationship, while too high a degree may result in overfitting.\n",
    "\n",
    "#### Application of Polynomial Regression\n",
    "\n",
    "Polynomial regression is commonly used because many real-world datasets have non-linear patterns. By fitting a curvilinear regression line, it provides better accuracy than standard linear regression for capturing the complexity in diverse data.\n",
    "\n",
    "    Stay tuned for Ridge and Lasso Regression and Don't forget to Star this Github Repository for more such contents and consider sharing with others.\n",
    "\n"
   ]
  }
 ],
 "metadata": {
  "kernelspec": {
   "display_name": "mlproj",
   "language": "python",
   "name": "python3"
  },
  "language_info": {
   "codemirror_mode": {
    "name": "ipython",
    "version": 3
   },
   "file_extension": ".py",
   "mimetype": "text/x-python",
   "name": "python",
   "nbconvert_exporter": "python",
   "pygments_lexer": "ipython3",
   "version": "3.8.19"
  }
 },
 "nbformat": 4,
 "nbformat_minor": 2
}
